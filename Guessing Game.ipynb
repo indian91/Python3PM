{
 "cells": [
  {
   "cell_type": "code",
   "execution_count": 10,
   "metadata": {},
   "outputs": [
    {
     "name": "stdout",
     "output_type": "stream",
     "text": [
      "Computer Guessing a number........\n",
      "\n",
      "\n",
      "\n",
      "Enter a number between 1 to 5030\n",
      "\n",
      "\n",
      "\n",
      "Think Small....\n",
      "\n",
      "\n",
      "\n",
      "Remaining chances:  4\n",
      "\n",
      "\n",
      "\n",
      "Enter a number between 1 to 5015\n",
      "\n",
      "\n",
      "\n",
      "Think Big.....\n",
      "\n",
      "\n",
      "\n",
      "Remaining chances:  3\n",
      "\n",
      "\n",
      "\n",
      "Enter a number between 1 to 5022\n",
      "\n",
      "\n",
      "\n",
      "Think Big.....\n",
      "\n",
      "\n",
      "\n",
      "Remaining chances:  2\n",
      "\n",
      "\n",
      "\n",
      "Enter a number between 1 to 5026\n",
      "\n",
      "\n",
      "\n",
      "Think Small....\n",
      "\n",
      "\n",
      "\n",
      "Remaining chances:  1\n",
      "\n",
      "\n",
      "\n",
      "Enter a number between 1 to 5024\n",
      "\n",
      "\n",
      "\n",
      "Congratulation.......\n",
      "You won the Game.....)\n"
     ]
    }
   ],
   "source": [
    "import random\n",
    "import time\n",
    "print('Computer Guessing a number........')\n",
    "time.sleep(2)\n",
    "com_guess=random.randint(1,50)\n",
    "chance=1\n",
    "while chance<=5:\n",
    "    print('\\n\\n')\n",
    "    user_guess=int(input('Enter a number between 1 to 50'))\n",
    "    time.sleep(1)\n",
    "    if user_guess>1 and user_guess>50:\n",
    "        print('\\n\\n')\n",
    "        print('Please enter number between 1 to 50')\n",
    "        print('Remaining Chanches are: ',(5-chance+1))\n",
    "        continue\n",
    "    elif user_guess<com_guess:\n",
    "        print('\\n\\n')\n",
    "        print('Think Big.....')\n",
    "    elif user_guess>com_guess:\n",
    "        print('\\n\\n')\n",
    "        print('Think Small....')\n",
    "    else:\n",
    "        print('\\n\\n')\n",
    "        print('Congratulation.......')\n",
    "        print('You won the Game.....)')\n",
    "        break\n",
    "    time.sleep(1)\n",
    "    print('\\n\\n')\n",
    "    print('Remaining chances: ',(5-chance))\n",
    "    chance+=1\n",
    "else:\n",
    "    print('\\n\\n')\n",
    "    print('You are such a looser....')\n",
    "    print('Computer guess was: ',com_guess)"
   ]
  },
  {
   "cell_type": "code",
   "execution_count": 11,
   "metadata": {},
   "outputs": [],
   "source": [
    "#rock,sessior\n",
    "#sessior,peppr\n",
    "#pepper,rock"
   ]
  },
  {
   "cell_type": "code",
   "execution_count": 14,
   "metadata": {},
   "outputs": [
    {
     "name": "stdout",
     "output_type": "stream",
     "text": [
      "Enter a guess between [rock,pepper,scissor]rock\n",
      "Enter a guess between [rock,pepper,scissor]rock\n",
      "Game Draw......\n"
     ]
    }
   ],
   "source": [
    "player1_won=[('rock','scissor'),('scissor','pepper'),('pepper','rock')]\n",
    "\n",
    "user1=input('Enter a guess between [rock,pepper,scissor]')\n",
    "user2=input('Enter a guess between [rock,pepper,scissor]')\n",
    "\n",
    "if (user1,user2) in player1_won:\n",
    "    print('User 1 have won the game')\n",
    "elif (user2,user1) in player1_won:\n",
    "    print('User 2 have won the game')\n",
    "else:\n",
    "    print('Game Draw......')"
   ]
  },
  {
   "cell_type": "code",
   "execution_count": 19,
   "metadata": {},
   "outputs": [
    {
     "name": "stdout",
     "output_type": "stream",
     "text": [
      "Enter a guess between [rock,pepper,scissor]rock\n",
      "User 2 have won the game\n"
     ]
    }
   ],
   "source": [
    "player1_won=[('rock','scissor'),('scissor','pepper'),('pepper','rock')]\n",
    "\n",
    "user1=input('Enter a guess between [rock,pepper,scissor]')\n",
    "user2=random.choice(['rock','pepper','scissor'])\n",
    "\n",
    "if (user1,user2) in player1_won:\n",
    "    print('User 1 have won the game')\n",
    "elif (user2,user1) in player1_won:\n",
    "    print('User 2 have won the game')\n",
    "else:\n",
    "    print('Game Draw......')"
   ]
  },
  {
   "cell_type": "code",
   "execution_count": 20,
   "metadata": {},
   "outputs": [],
   "source": [
    "import time"
   ]
  },
  {
   "cell_type": "code",
   "execution_count": 21,
   "metadata": {},
   "outputs": [],
   "source": [
    "time.sleep(5)"
   ]
  },
  {
   "cell_type": "code",
   "execution_count": 22,
   "metadata": {},
   "outputs": [
    {
     "data": {
      "text/plain": [
       "1590230363.907604"
      ]
     },
     "execution_count": 22,
     "metadata": {},
     "output_type": "execute_result"
    }
   ],
   "source": [
    "time.time()"
   ]
  },
  {
   "cell_type": "code",
   "execution_count": 23,
   "metadata": {},
   "outputs": [],
   "source": [
    "c=time.time()"
   ]
  },
  {
   "cell_type": "code",
   "execution_count": 24,
   "metadata": {},
   "outputs": [
    {
     "data": {
      "text/plain": [
       "50.42587444539525"
      ]
     },
     "execution_count": 24,
     "metadata": {},
     "output_type": "execute_result"
    }
   ],
   "source": [
    "c/60/60/24/365"
   ]
  },
  {
   "cell_type": "code",
   "execution_count": 26,
   "metadata": {},
   "outputs": [
    {
     "data": {
      "text/plain": [
       "'Sat May 23 16:10:03 2020'"
      ]
     },
     "execution_count": 26,
     "metadata": {},
     "output_type": "execute_result"
    }
   ],
   "source": [
    "time.ctime()"
   ]
  },
  {
   "cell_type": "code",
   "execution_count": 27,
   "metadata": {},
   "outputs": [
    {
     "data": {
      "text/plain": [
       "'Sat May 23 16:10:14 2020'"
      ]
     },
     "execution_count": 27,
     "metadata": {},
     "output_type": "execute_result"
    }
   ],
   "source": [
    "time.ctime()"
   ]
  },
  {
   "cell_type": "code",
   "execution_count": 28,
   "metadata": {},
   "outputs": [
    {
     "data": {
      "text/plain": [
       "'23'"
      ]
     },
     "execution_count": 28,
     "metadata": {},
     "output_type": "execute_result"
    }
   ],
   "source": [
    "time.strftime('%d')"
   ]
  },
  {
   "cell_type": "code",
   "execution_count": 30,
   "metadata": {},
   "outputs": [
    {
     "data": {
      "text/plain": [
       "'05'"
      ]
     },
     "execution_count": 30,
     "metadata": {},
     "output_type": "execute_result"
    }
   ],
   "source": [
    "time.strftime('%m')"
   ]
  },
  {
   "cell_type": "code",
   "execution_count": 31,
   "metadata": {},
   "outputs": [
    {
     "data": {
      "text/plain": [
       "'20'"
      ]
     },
     "execution_count": 31,
     "metadata": {},
     "output_type": "execute_result"
    }
   ],
   "source": [
    "time.strftime('%y')"
   ]
  },
  {
   "cell_type": "code",
   "execution_count": 32,
   "metadata": {},
   "outputs": [
    {
     "data": {
      "text/plain": [
       "'2020'"
      ]
     },
     "execution_count": 32,
     "metadata": {},
     "output_type": "execute_result"
    }
   ],
   "source": [
    "time.strftime('%Y')"
   ]
  },
  {
   "cell_type": "code",
   "execution_count": 33,
   "metadata": {},
   "outputs": [
    {
     "data": {
      "text/plain": [
       "'16'"
      ]
     },
     "execution_count": 33,
     "metadata": {},
     "output_type": "execute_result"
    }
   ],
   "source": [
    "time.strftime('%H')"
   ]
  },
  {
   "cell_type": "code",
   "execution_count": 34,
   "metadata": {},
   "outputs": [
    {
     "data": {
      "text/plain": [
       "'11'"
      ]
     },
     "execution_count": 34,
     "metadata": {},
     "output_type": "execute_result"
    }
   ],
   "source": [
    "time.strftime('%M')"
   ]
  },
  {
   "cell_type": "code",
   "execution_count": 35,
   "metadata": {},
   "outputs": [
    {
     "data": {
      "text/plain": [
       "'08'"
      ]
     },
     "execution_count": 35,
     "metadata": {},
     "output_type": "execute_result"
    }
   ],
   "source": [
    "time.strftime('%S')"
   ]
  },
  {
   "cell_type": "code",
   "execution_count": 36,
   "metadata": {},
   "outputs": [
    {
     "data": {
      "text/plain": [
       "'Sat'"
      ]
     },
     "execution_count": 36,
     "metadata": {},
     "output_type": "execute_result"
    }
   ],
   "source": [
    "time.strftime('%a')"
   ]
  },
  {
   "cell_type": "code",
   "execution_count": 37,
   "metadata": {},
   "outputs": [
    {
     "data": {
      "text/plain": [
       "'Saturday'"
      ]
     },
     "execution_count": 37,
     "metadata": {},
     "output_type": "execute_result"
    }
   ],
   "source": [
    "time.strftime('%A')"
   ]
  },
  {
   "cell_type": "code",
   "execution_count": 38,
   "metadata": {},
   "outputs": [
    {
     "data": {
      "text/plain": [
       "'PM'"
      ]
     },
     "execution_count": 38,
     "metadata": {},
     "output_type": "execute_result"
    }
   ],
   "source": [
    "time.strftime('%p')"
   ]
  },
  {
   "cell_type": "code",
   "execution_count": 39,
   "metadata": {},
   "outputs": [
    {
     "data": {
      "text/plain": [
       "'04:11:27 PM'"
      ]
     },
     "execution_count": 39,
     "metadata": {},
     "output_type": "execute_result"
    }
   ],
   "source": [
    "time.strftime('%r')"
   ]
  },
  {
   "cell_type": "code",
   "execution_count": 47,
   "metadata": {},
   "outputs": [
    {
     "data": {
      "text/plain": [
       "'Sat  23/05/2020  16:13:59'"
      ]
     },
     "execution_count": 47,
     "metadata": {},
     "output_type": "execute_result"
    }
   ],
   "source": [
    "time.strftime('%a  %d/%m/%Y  %H:%M:%S')"
   ]
  },
  {
   "cell_type": "code",
   "execution_count": 50,
   "metadata": {},
   "outputs": [
    {
     "name": "stdout",
     "output_type": "stream",
     "text": [
      "Day------>Sat\n",
      "Date:---->23/05/2020\n",
      "Time:---->16:17:00\n"
     ]
    }
   ],
   "source": [
    "print(f\"Day------>{time.strftime('%a')}\\nDate:---->{time.strftime('%d/%m/%Y')}\\nTime:---->{time.strftime('%H:%M:%S')}\")"
   ]
  },
  {
   "cell_type": "code",
   "execution_count": 51,
   "metadata": {},
   "outputs": [],
   "source": [
    "import os"
   ]
  },
  {
   "cell_type": "code",
   "execution_count": 52,
   "metadata": {},
   "outputs": [],
   "source": [
    "os.mkdir('File Handling')#mkdir----->make directory"
   ]
  },
  {
   "cell_type": "code",
   "execution_count": 53,
   "metadata": {},
   "outputs": [],
   "source": [
    "os.rmdir('File Handling/')#rmdir----->remove directory"
   ]
  },
  {
   "cell_type": "code",
   "execution_count": null,
   "metadata": {},
   "outputs": [],
   "source": [
    "os.chdir('C:/')#chdir----->change directory"
   ]
  },
  {
   "cell_type": "code",
   "execution_count": 54,
   "metadata": {},
   "outputs": [
    {
     "data": {
      "text/plain": [
       "'F:\\\\Grras_data\\\\Grras_Delhi\\\\classes\\\\Backups\\\\3PM PYthon\\\\gitrepo'"
      ]
     },
     "execution_count": 54,
     "metadata": {},
     "output_type": "execute_result"
    }
   ],
   "source": [
    "pwd"
   ]
  },
  {
   "cell_type": "code",
   "execution_count": 55,
   "metadata": {},
   "outputs": [
    {
     "data": {
      "text/plain": [
       "'F:\\\\Grras_data\\\\Grras_Delhi\\\\classes\\\\Backups\\\\3PM PYthon\\\\gitrepo'"
      ]
     },
     "execution_count": 55,
     "metadata": {},
     "output_type": "execute_result"
    }
   ],
   "source": [
    "os.getcwd()"
   ]
  },
  {
   "cell_type": "code",
   "execution_count": 56,
   "metadata": {},
   "outputs": [],
   "source": [
    "os.chdir('F:\\\\Grras_data\\\\Grras_Delhi\\\\classes')"
   ]
  },
  {
   "cell_type": "code",
   "execution_count": 57,
   "metadata": {},
   "outputs": [
    {
     "data": {
      "text/plain": [
       "'F:\\\\Grras_data\\\\Grras_Delhi\\\\classes'"
      ]
     },
     "execution_count": 57,
     "metadata": {},
     "output_type": "execute_result"
    }
   ],
   "source": [
    "pwd"
   ]
  },
  {
   "cell_type": "code",
   "execution_count": 58,
   "metadata": {},
   "outputs": [],
   "source": [
    "os.mkdir('hello1234')"
   ]
  },
  {
   "cell_type": "code",
   "execution_count": 59,
   "metadata": {},
   "outputs": [],
   "source": [
    "os.rmdir('hello1234/')"
   ]
  },
  {
   "cell_type": "code",
   "execution_count": 60,
   "metadata": {},
   "outputs": [],
   "source": [
    "os.chdir('..')"
   ]
  },
  {
   "cell_type": "code",
   "execution_count": 62,
   "metadata": {},
   "outputs": [
    {
     "data": {
      "text/plain": [
       "'F:\\\\Grras_data\\\\Grras_Delhi'"
      ]
     },
     "execution_count": 62,
     "metadata": {},
     "output_type": "execute_result"
    }
   ],
   "source": [
    "pwd"
   ]
  },
  {
   "cell_type": "code",
   "execution_count": 63,
   "metadata": {},
   "outputs": [],
   "source": [
    "os.chdir('..')"
   ]
  },
  {
   "cell_type": "code",
   "execution_count": 64,
   "metadata": {},
   "outputs": [
    {
     "data": {
      "text/plain": [
       "'F:\\\\Grras_data'"
      ]
     },
     "execution_count": 64,
     "metadata": {},
     "output_type": "execute_result"
    }
   ],
   "source": [
    "pwd"
   ]
  },
  {
   "cell_type": "code",
   "execution_count": 66,
   "metadata": {},
   "outputs": [],
   "source": [
    "os.chdir('/Grras_data/')"
   ]
  },
  {
   "cell_type": "code",
   "execution_count": 67,
   "metadata": {},
   "outputs": [
    {
     "data": {
      "text/plain": [
       "'F:\\\\Grras_data'"
      ]
     },
     "execution_count": 67,
     "metadata": {},
     "output_type": "execute_result"
    }
   ],
   "source": [
    "pwd"
   ]
  },
  {
   "cell_type": "code",
   "execution_count": 68,
   "metadata": {},
   "outputs": [],
   "source": [
    "os.chdir('Grras_Delhi/classes/Backups/3PM PYthon/')"
   ]
  },
  {
   "cell_type": "code",
   "execution_count": 69,
   "metadata": {},
   "outputs": [
    {
     "data": {
      "text/plain": [
       "['.git',\n",
       " '.ipynb_checkpoints',\n",
       " 'corona_update.py',\n",
       " 'corona_update1.py',\n",
       " 'Covid-19.ipynb',\n",
       " 'Dictionary.ipynb',\n",
       " 'Dictionary1.ipynb',\n",
       " 'first.csv',\n",
       " 'gitrepo',\n",
       " 'HTML',\n",
       " 'Introduction.ipynb',\n",
       " 'List Comprehension.ipynb',\n",
       " 'List.ipynb',\n",
       " 'Operators.ipynb',\n",
       " 'Python3PM',\n",
       " 'sets.ipynb',\n",
       " 'String.ipynb',\n",
       " 'Tuples.ipynb',\n",
       " 'Untitled.ipynb',\n",
       " 'Untitled1.ipynb']"
      ]
     },
     "execution_count": 69,
     "metadata": {},
     "output_type": "execute_result"
    }
   ],
   "source": [
    "os.listdir()"
   ]
  },
  {
   "cell_type": "code",
   "execution_count": 70,
   "metadata": {},
   "outputs": [
    {
     "data": {
      "text/plain": [
       "'F:\\\\Grras_data\\\\Grras_Delhi\\\\classes\\\\Backups\\\\3PM PYthon'"
      ]
     },
     "execution_count": 70,
     "metadata": {},
     "output_type": "execute_result"
    }
   ],
   "source": [
    "pwd"
   ]
  },
  {
   "cell_type": "code",
   "execution_count": 71,
   "metadata": {},
   "outputs": [],
   "source": [
    "os.chdir('gitrepo/')"
   ]
  },
  {
   "cell_type": "code",
   "execution_count": 72,
   "metadata": {},
   "outputs": [
    {
     "data": {
      "text/plain": [
       "['.git',\n",
       " '.ipynb_checkpoints',\n",
       " 'Advanced Function.ipynb',\n",
       " 'Conditional Statement.ipynb',\n",
       " 'Dictionary.ipynb',\n",
       " 'Dictionary1.ipynb',\n",
       " 'Functions.ipynb',\n",
       " 'Guessing Game.ipynb',\n",
       " 'Introduction.ipynb',\n",
       " 'Iteration.ipynb',\n",
       " 'List Comprehension.ipynb',\n",
       " 'List.ipynb',\n",
       " 'Loop_Practice.ipynb',\n",
       " 'module.py',\n",
       " 'Modules and Packages.html',\n",
       " 'Modules and Packages.ipynb',\n",
       " 'More About Functions.html',\n",
       " 'More About Functions.ipynb',\n",
       " 'Nested IF-Else.ipynb',\n",
       " 'next_day.py',\n",
       " 'Operators.ipynb',\n",
       " 'Operators1.ipynb',\n",
       " 'origin.txt',\n",
       " 'Pattern Making.ipynb',\n",
       " 'sets.ipynb',\n",
       " 'Star Pattern.ipynb',\n",
       " 'String.ipynb',\n",
       " 'Tuples.ipynb',\n",
       " 'Untitled.ipynb',\n",
       " 'Untitled1.ipynb',\n",
       " '__pycache__']"
      ]
     },
     "execution_count": 72,
     "metadata": {},
     "output_type": "execute_result"
    }
   ],
   "source": [
    "os.listdir()"
   ]
  },
  {
   "cell_type": "code",
   "execution_count": 74,
   "metadata": {},
   "outputs": [],
   "source": [
    "os.chdir('..')"
   ]
  },
  {
   "cell_type": "code",
   "execution_count": 75,
   "metadata": {},
   "outputs": [
    {
     "data": {
      "text/plain": [
       "'F:\\\\Grras_data\\\\Grras_Delhi\\\\classes\\\\Backups\\\\3PM PYthon'"
      ]
     },
     "execution_count": 75,
     "metadata": {},
     "output_type": "execute_result"
    }
   ],
   "source": [
    "pwd"
   ]
  },
  {
   "cell_type": "code",
   "execution_count": 76,
   "metadata": {},
   "outputs": [
    {
     "data": {
      "text/plain": [
       "'F:\\\\Grras_data\\\\Grras_Delhi\\\\classes\\\\Backups\\\\3PM PYthon'"
      ]
     },
     "execution_count": 76,
     "metadata": {},
     "output_type": "execute_result"
    }
   ],
   "source": [
    "os.path.join('F:\\\\Grras_data\\\\Grras_Delhi','classes\\\\Backups\\\\3PM PYthon')"
   ]
  },
  {
   "cell_type": "code",
   "execution_count": 77,
   "metadata": {},
   "outputs": [
    {
     "data": {
      "text/plain": [
       "True"
      ]
     },
     "execution_count": 77,
     "metadata": {},
     "output_type": "execute_result"
    }
   ],
   "source": [
    "os.access('F:\\\\Grras_data\\\\Grras_Delhi\\\\classes\\\\Backups\\\\3PM PYthon',os.R_OK)"
   ]
  },
  {
   "cell_type": "code",
   "execution_count": 78,
   "metadata": {},
   "outputs": [
    {
     "data": {
      "text/plain": [
       "True"
      ]
     },
     "execution_count": 78,
     "metadata": {},
     "output_type": "execute_result"
    }
   ],
   "source": [
    "os.access('F:\\\\Grras_data\\\\Grras_Delhi\\\\classes\\\\Backups\\\\3PM PYthon',os.W_OK)"
   ]
  },
  {
   "cell_type": "code",
   "execution_count": 79,
   "metadata": {},
   "outputs": [
    {
     "data": {
      "text/plain": [
       "True"
      ]
     },
     "execution_count": 79,
     "metadata": {},
     "output_type": "execute_result"
    }
   ],
   "source": [
    "os.access('F:\\\\Grras_data\\\\Grras_Delhi\\\\classes\\\\Backups\\\\3PM PYthon',os.X_OK)"
   ]
  },
  {
   "cell_type": "code",
   "execution_count": 86,
   "metadata": {},
   "outputs": [],
   "source": [
    "os.chmod('F:\\\\Grras_data\\\\Grras_Delhi\\\\classes\\\\Backups\\\\3PM PYthon\\\\gitr',111)"
   ]
  },
  {
   "cell_type": "code",
   "execution_count": 87,
   "metadata": {},
   "outputs": [
    {
     "data": {
      "text/plain": [
       "True"
      ]
     },
     "execution_count": 87,
     "metadata": {},
     "output_type": "execute_result"
    }
   ],
   "source": [
    "os.access('F:\\\\Grras_data\\\\Grras_Delhi\\\\classes\\\\Backups\\\\3PM PYthon',os.X_OK)"
   ]
  },
  {
   "cell_type": "code",
   "execution_count": 88,
   "metadata": {},
   "outputs": [
    {
     "data": {
      "text/plain": [
       "True"
      ]
     },
     "execution_count": 88,
     "metadata": {},
     "output_type": "execute_result"
    }
   ],
   "source": [
    "os.access('F:\\\\Grras_data\\\\Grras_Delhi\\\\classes\\\\Backups\\\\3PM PYthon',os.R_OK)"
   ]
  },
  {
   "cell_type": "code",
   "execution_count": 89,
   "metadata": {},
   "outputs": [
    {
     "data": {
      "text/plain": [
       "True"
      ]
     },
     "execution_count": 89,
     "metadata": {},
     "output_type": "execute_result"
    }
   ],
   "source": [
    "os.access('F:\\\\Grras_data\\\\Grras_Delhi\\\\classes\\\\Backups\\\\3PM PYthon',os.W_OK)"
   ]
  },
  {
   "cell_type": "code",
   "execution_count": 90,
   "metadata": {},
   "outputs": [
    {
     "data": {
      "text/plain": [
       "'F:\\\\Grras_data\\\\Grras_Delhi\\\\classes\\\\Backups\\\\3PM PYthon'"
      ]
     },
     "execution_count": 90,
     "metadata": {},
     "output_type": "execute_result"
    }
   ],
   "source": [
    "pwd"
   ]
  },
  {
   "cell_type": "code",
   "execution_count": 94,
   "metadata": {},
   "outputs": [],
   "source": [
    "os.chmod('.',111)"
   ]
  },
  {
   "cell_type": "code",
   "execution_count": 95,
   "metadata": {},
   "outputs": [
    {
     "data": {
      "text/plain": [
       "True"
      ]
     },
     "execution_count": 95,
     "metadata": {},
     "output_type": "execute_result"
    }
   ],
   "source": [
    "os.access('F:\\\\Grras_data\\\\Grras_Delhi\\\\classes\\\\Backups\\\\3PM PYthon',os.X_OK)"
   ]
  },
  {
   "cell_type": "code",
   "execution_count": 96,
   "metadata": {},
   "outputs": [
    {
     "data": {
      "text/plain": [
       "True"
      ]
     },
     "execution_count": 96,
     "metadata": {},
     "output_type": "execute_result"
    }
   ],
   "source": [
    "os.access('F:\\\\Grras_data\\\\Grras_Delhi\\\\classes\\\\Backups\\\\3PM PYthon',os.R_OK)"
   ]
  },
  {
   "cell_type": "code",
   "execution_count": 97,
   "metadata": {},
   "outputs": [
    {
     "data": {
      "text/plain": [
       "True"
      ]
     },
     "execution_count": 97,
     "metadata": {},
     "output_type": "execute_result"
    }
   ],
   "source": [
    "\n",
    "\n",
    "os.access('F:\\\\Grras_data\\\\Grras_Delhi\\\\classes\\\\Backups\\\\3PM PYthon',os.W_OK)"
   ]
  },
  {
   "cell_type": "code",
   "execution_count": 98,
   "metadata": {},
   "outputs": [
    {
     "ename": "TypeError",
     "evalue": "access() missing required argument 'path' (pos 1)",
     "output_type": "error",
     "traceback": [
      "\u001b[1;31m---------------------------------------------------------------------------\u001b[0m",
      "\u001b[1;31mTypeError\u001b[0m                                 Traceback (most recent call last)",
      "\u001b[1;32m<ipython-input-98-734c850249e1>\u001b[0m in \u001b[0;36m<module>\u001b[1;34m\u001b[0m\n\u001b[1;32m----> 1\u001b[1;33m \u001b[0mos\u001b[0m\u001b[1;33m.\u001b[0m\u001b[0maccess\u001b[0m\u001b[1;33m(\u001b[0m\u001b[1;33m)\u001b[0m\u001b[1;33m\u001b[0m\u001b[1;33m\u001b[0m\u001b[0m\n\u001b[0m",
      "\u001b[1;31mTypeError\u001b[0m: access() missing required argument 'path' (pos 1)"
     ]
    }
   ],
   "source": [
    "os.access()"
   ]
  },
  {
   "cell_type": "code",
   "execution_count": 99,
   "metadata": {},
   "outputs": [],
   "source": [
    "f=open('hello.txt','w')"
   ]
  },
  {
   "cell_type": "code",
   "execution_count": 100,
   "metadata": {},
   "outputs": [],
   "source": [
    "#read mode-------->r,rb,rt,r+\n",
    "#write mode------->w,wb,wt,w+\n",
    "#append mode------>a,ab,at,a+"
   ]
  },
  {
   "cell_type": "code",
   "execution_count": 101,
   "metadata": {},
   "outputs": [],
   "source": [
    "s='''This is jupyter notebook'''"
   ]
  },
  {
   "cell_type": "code",
   "execution_count": 102,
   "metadata": {},
   "outputs": [
    {
     "data": {
      "text/plain": [
       "24"
      ]
     },
     "execution_count": 102,
     "metadata": {},
     "output_type": "execute_result"
    }
   ],
   "source": [
    "f.write(s)"
   ]
  },
  {
   "cell_type": "code",
   "execution_count": 103,
   "metadata": {},
   "outputs": [
    {
     "data": {
      "text/plain": [
       "24"
      ]
     },
     "execution_count": 103,
     "metadata": {},
     "output_type": "execute_result"
    }
   ],
   "source": [
    "len(s)"
   ]
  },
  {
   "cell_type": "code",
   "execution_count": 104,
   "metadata": {},
   "outputs": [
    {
     "data": {
      "text/plain": [
       "'F:\\\\Grras_data\\\\Grras_Delhi\\\\classes\\\\Backups\\\\3PM PYthon'"
      ]
     },
     "execution_count": 104,
     "metadata": {},
     "output_type": "execute_result"
    }
   ],
   "source": [
    "pwd"
   ]
  },
  {
   "cell_type": "code",
   "execution_count": 105,
   "metadata": {},
   "outputs": [],
   "source": [
    "f.close()"
   ]
  },
  {
   "cell_type": "code",
   "execution_count": 107,
   "metadata": {},
   "outputs": [
    {
     "data": {
      "text/plain": [
       "True"
      ]
     },
     "execution_count": 107,
     "metadata": {},
     "output_type": "execute_result"
    }
   ],
   "source": [
    "f.closed"
   ]
  },
  {
   "cell_type": "code",
   "execution_count": null,
   "metadata": {},
   "outputs": [],
   "source": []
  }
 ],
 "metadata": {
  "kernelspec": {
   "display_name": "Python 3",
   "language": "python",
   "name": "python3"
  },
  "language_info": {
   "codemirror_mode": {
    "name": "ipython",
    "version": 3
   },
   "file_extension": ".py",
   "mimetype": "text/x-python",
   "name": "python",
   "nbconvert_exporter": "python",
   "pygments_lexer": "ipython3",
   "version": "3.7.3"
  }
 },
 "nbformat": 4,
 "nbformat_minor": 2
}
