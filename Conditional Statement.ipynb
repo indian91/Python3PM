{
 "cells": [
  {
   "cell_type": "code",
   "execution_count": 1,
   "metadata": {},
   "outputs": [],
   "source": [
    "s={1,2,3,4,4,5,5,5,5,6,6,}"
   ]
  },
  {
   "cell_type": "code",
   "execution_count": 2,
   "metadata": {},
   "outputs": [],
   "source": [
    "s1={1,2,4,5,8,9}"
   ]
  },
  {
   "cell_type": "code",
   "execution_count": 4,
   "metadata": {},
   "outputs": [],
   "source": [
    "x=s.difference(s1)"
   ]
  },
  {
   "cell_type": "code",
   "execution_count": 5,
   "metadata": {},
   "outputs": [
    {
     "data": {
      "text/plain": [
       "{3, 6}"
      ]
     },
     "execution_count": 5,
     "metadata": {},
     "output_type": "execute_result"
    }
   ],
   "source": [
    "x"
   ]
  },
  {
   "cell_type": "code",
   "execution_count": 6,
   "metadata": {},
   "outputs": [],
   "source": [
    "s.difference_update(s1)"
   ]
  },
  {
   "cell_type": "code",
   "execution_count": 7,
   "metadata": {},
   "outputs": [
    {
     "data": {
      "text/plain": [
       "{3, 6}"
      ]
     },
     "execution_count": 7,
     "metadata": {},
     "output_type": "execute_result"
    }
   ],
   "source": [
    "s"
   ]
  },
  {
   "cell_type": "raw",
   "metadata": {},
   "source": [
    "conditional:\n",
    "    \n",
    "        (i)Single If\n",
    "                    if condition:\n",
    "                        stmt\n",
    "        (ii)If Else\n",
    "                    if condition:\n",
    "                        stmt\n",
    "                    else:\n",
    "                        stmt\n",
    "                        \n",
    "        (iii)If Else Ladder\n",
    "                            if condition:\n",
    "                                stmt\n",
    "                            elif condition:\n",
    "                                stmt\n",
    "                            elif condition:\n",
    "                                stmt\n",
    "                            else:\n",
    "                                stmt\n",
    "        (iv)Nested If-Else\n",
    "                          if condition:\n",
    "                                stmt\n",
    "                                if condition:\n",
    "                                    stmt\n",
    "                                    if condition:\n",
    "                                        stmt\n",
    "                                    else:\n",
    "                                        stmt\n",
    "                                else:\n",
    "                                    stmt\n",
    "                          else:\n",
    "                            stmt"
   ]
  },
  {
   "cell_type": "code",
   "execution_count": 13,
   "metadata": {},
   "outputs": [
    {
     "name": "stdout",
     "output_type": "stream",
     "text": [
      "Enter a number6\n"
     ]
    }
   ],
   "source": [
    "x=int(input('Enter a number'))\n",
    "if x==5:\n",
    "    print('THis is five')\n"
   ]
  },
  {
   "cell_type": "code",
   "execution_count": 8,
   "metadata": {
    "scrolled": true
   },
   "outputs": [
    {
     "data": {
      "text/plain": [
       "True"
      ]
     },
     "execution_count": 8,
     "metadata": {},
     "output_type": "execute_result"
    }
   ],
   "source": [
    "5<6"
   ]
  },
  {
   "cell_type": "code",
   "execution_count": 9,
   "metadata": {},
   "outputs": [
    {
     "data": {
      "text/plain": [
       "True"
      ]
     },
     "execution_count": 9,
     "metadata": {},
     "output_type": "execute_result"
    }
   ],
   "source": [
    "6>4"
   ]
  },
  {
   "cell_type": "code",
   "execution_count": 10,
   "metadata": {},
   "outputs": [
    {
     "data": {
      "text/plain": [
       "False"
      ]
     },
     "execution_count": 10,
     "metadata": {},
     "output_type": "execute_result"
    }
   ],
   "source": [
    "-4>8"
   ]
  },
  {
   "cell_type": "code",
   "execution_count": 11,
   "metadata": {},
   "outputs": [
    {
     "data": {
      "text/plain": [
       "True"
      ]
     },
     "execution_count": 11,
     "metadata": {},
     "output_type": "execute_result"
    }
   ],
   "source": [
    "5==5\n"
   ]
  },
  {
   "cell_type": "code",
   "execution_count": 14,
   "metadata": {},
   "outputs": [
    {
     "name": "stdout",
     "output_type": "stream",
     "text": [
      "Enter a number5\n",
      "THis is five\n"
     ]
    }
   ],
   "source": [
    "x=int(input('Enter a number'))\n",
    "if x==5:\n",
    "    print('THis is five')\n"
   ]
  },
  {
   "cell_type": "code",
   "execution_count": 15,
   "metadata": {},
   "outputs": [
    {
     "name": "stdout",
     "output_type": "stream",
     "text": [
      "Enter a number7\n",
      "this is not five\n"
     ]
    }
   ],
   "source": [
    "x=int(input('Enter a number'))\n",
    "if x==5:\n",
    "    print('THis is five')\n",
    "else:\n",
    "    print('this is not five')"
   ]
  },
  {
   "cell_type": "code",
   "execution_count": 16,
   "metadata": {},
   "outputs": [],
   "source": [
    "l=[1,2,3,4,4,9,5,5,6,]"
   ]
  },
  {
   "cell_type": "code",
   "execution_count": 17,
   "metadata": {},
   "outputs": [
    {
     "name": "stdout",
     "output_type": "stream",
     "text": [
      "Enter a number7\n",
      "X is not in list\n"
     ]
    }
   ],
   "source": [
    "x=int(input('Enter a number'))\n",
    "if x in l:\n",
    "    print('X is in list')\n",
    "else:\n",
    "    print('X is not in list')"
   ]
  },
  {
   "cell_type": "code",
   "execution_count": 18,
   "metadata": {},
   "outputs": [
    {
     "name": "stdout",
     "output_type": "stream",
     "text": [
      "Enter a number4\n",
      "X is in list\n"
     ]
    }
   ],
   "source": [
    "x=int(input('Enter a number'))\n",
    "if x in l:\n",
    "    print('X is in list')\n",
    "else:\n",
    "    print('X is not in list')"
   ]
  },
  {
   "cell_type": "code",
   "execution_count": 23,
   "metadata": {},
   "outputs": [
    {
     "name": "stdout",
     "output_type": "stream",
     "text": [
      "hello\n",
      "x is not equal to y\n"
     ]
    }
   ],
   "source": [
    "x='hello'\n",
    "y=str(input())\n",
    "if x is y:\n",
    "    print('x is equal to y')\n",
    "else:\n",
    "    print('x is not equal to y')"
   ]
  },
  {
   "cell_type": "code",
   "execution_count": 25,
   "metadata": {},
   "outputs": [
    {
     "data": {
      "text/plain": [
       "True"
      ]
     },
     "execution_count": 25,
     "metadata": {},
     "output_type": "execute_result"
    }
   ],
   "source": [
    "x is \"hello\""
   ]
  },
  {
   "cell_type": "code",
   "execution_count": 26,
   "metadata": {},
   "outputs": [
    {
     "data": {
      "text/plain": [
       "False"
      ]
     },
     "execution_count": 26,
     "metadata": {},
     "output_type": "execute_result"
    }
   ],
   "source": [
    "x is y"
   ]
  },
  {
   "cell_type": "code",
   "execution_count": 27,
   "metadata": {},
   "outputs": [
    {
     "data": {
      "text/plain": [
       "'hello'"
      ]
     },
     "execution_count": 27,
     "metadata": {},
     "output_type": "execute_result"
    }
   ],
   "source": [
    "y"
   ]
  },
  {
   "cell_type": "code",
   "execution_count": 28,
   "metadata": {},
   "outputs": [
    {
     "data": {
      "text/plain": [
       "'hello'"
      ]
     },
     "execution_count": 28,
     "metadata": {},
     "output_type": "execute_result"
    }
   ],
   "source": [
    "x"
   ]
  },
  {
   "cell_type": "code",
   "execution_count": 29,
   "metadata": {},
   "outputs": [
    {
     "data": {
      "text/plain": [
       "41185437264"
      ]
     },
     "execution_count": 29,
     "metadata": {},
     "output_type": "execute_result"
    }
   ],
   "source": [
    "id(x)"
   ]
  },
  {
   "cell_type": "code",
   "execution_count": 30,
   "metadata": {},
   "outputs": [
    {
     "data": {
      "text/plain": [
       "41185293512"
      ]
     },
     "execution_count": 30,
     "metadata": {},
     "output_type": "execute_result"
    }
   ],
   "source": [
    "id(y)"
   ]
  },
  {
   "cell_type": "code",
   "execution_count": 31,
   "metadata": {},
   "outputs": [],
   "source": [
    "x=5"
   ]
  },
  {
   "cell_type": "code",
   "execution_count": 32,
   "metadata": {},
   "outputs": [],
   "source": [
    "y=5"
   ]
  },
  {
   "cell_type": "code",
   "execution_count": 33,
   "metadata": {},
   "outputs": [
    {
     "data": {
      "text/plain": [
       "True"
      ]
     },
     "execution_count": 33,
     "metadata": {},
     "output_type": "execute_result"
    }
   ],
   "source": [
    "x is y"
   ]
  },
  {
   "cell_type": "code",
   "execution_count": 34,
   "metadata": {},
   "outputs": [
    {
     "data": {
      "text/plain": [
       "8780676895680"
      ]
     },
     "execution_count": 34,
     "metadata": {},
     "output_type": "execute_result"
    }
   ],
   "source": [
    "id(x)"
   ]
  },
  {
   "cell_type": "code",
   "execution_count": 35,
   "metadata": {},
   "outputs": [
    {
     "data": {
      "text/plain": [
       "8780676895680"
      ]
     },
     "execution_count": 35,
     "metadata": {},
     "output_type": "execute_result"
    }
   ],
   "source": [
    "id(y)"
   ]
  },
  {
   "cell_type": "code",
   "execution_count": 37,
   "metadata": {},
   "outputs": [
    {
     "name": "stdout",
     "output_type": "stream",
     "text": [
      "6\n",
      "x is equal to y\n"
     ]
    }
   ],
   "source": [
    "x=6\n",
    "y=int(input())\n",
    "if x is y:\n",
    "    print('x is equal to y')\n",
    "else:\n",
    "    print('x is not equal to y')"
   ]
  },
  {
   "cell_type": "code",
   "execution_count": 47,
   "metadata": {},
   "outputs": [],
   "source": [
    "x='hello'\n",
    "y='hello'\n"
   ]
  },
  {
   "cell_type": "code",
   "execution_count": 48,
   "metadata": {},
   "outputs": [
    {
     "data": {
      "text/plain": [
       "41185437264"
      ]
     },
     "execution_count": 48,
     "metadata": {},
     "output_type": "execute_result"
    }
   ],
   "source": [
    "id(x)"
   ]
  },
  {
   "cell_type": "code",
   "execution_count": 49,
   "metadata": {},
   "outputs": [
    {
     "data": {
      "text/plain": [
       "41185437264"
      ]
     },
     "execution_count": 49,
     "metadata": {},
     "output_type": "execute_result"
    }
   ],
   "source": [
    "id(y)"
   ]
  },
  {
   "cell_type": "code",
   "execution_count": 50,
   "metadata": {},
   "outputs": [
    {
     "data": {
      "text/plain": [
       "True"
      ]
     },
     "execution_count": 50,
     "metadata": {},
     "output_type": "execute_result"
    }
   ],
   "source": [
    "x is y"
   ]
  },
  {
   "cell_type": "code",
   "execution_count": 51,
   "metadata": {},
   "outputs": [
    {
     "name": "stdout",
     "output_type": "stream",
     "text": [
      "x is equal to y\n"
     ]
    }
   ],
   "source": [
    "if x is y:\n",
    "    print('x is equal to y')\n",
    "else:\n",
    "    print('x is not equal to y')"
   ]
  },
  {
   "cell_type": "code",
   "execution_count": 52,
   "metadata": {},
   "outputs": [
    {
     "name": "stdout",
     "output_type": "stream",
     "text": [
      "abc\n"
     ]
    }
   ],
   "source": [
    "x='abc'\n",
    "y=input()"
   ]
  },
  {
   "cell_type": "code",
   "execution_count": 53,
   "metadata": {},
   "outputs": [
    {
     "data": {
      "text/plain": [
       "41109215080"
      ]
     },
     "execution_count": 53,
     "metadata": {},
     "output_type": "execute_result"
    }
   ],
   "source": [
    "id(x)"
   ]
  },
  {
   "cell_type": "code",
   "execution_count": 54,
   "metadata": {},
   "outputs": [
    {
     "data": {
      "text/plain": [
       "41166626464"
      ]
     },
     "execution_count": 54,
     "metadata": {},
     "output_type": "execute_result"
    }
   ],
   "source": [
    "id(y)"
   ]
  },
  {
   "cell_type": "code",
   "execution_count": 55,
   "metadata": {},
   "outputs": [],
   "source": [
    "y='abc'"
   ]
  },
  {
   "cell_type": "code",
   "execution_count": 56,
   "metadata": {},
   "outputs": [
    {
     "data": {
      "text/plain": [
       "41109215080"
      ]
     },
     "execution_count": 56,
     "metadata": {},
     "output_type": "execute_result"
    }
   ],
   "source": [
    "id(y)"
   ]
  },
  {
   "cell_type": "code",
   "execution_count": 57,
   "metadata": {},
   "outputs": [
    {
     "data": {
      "text/plain": [
       "[1, 2, 3, 4, 4, 9, 5, 5, 6]"
      ]
     },
     "execution_count": 57,
     "metadata": {},
     "output_type": "execute_result"
    }
   ],
   "source": [
    "l"
   ]
  },
  {
   "cell_type": "code",
   "execution_count": 58,
   "metadata": {},
   "outputs": [
    {
     "name": "stdout",
     "output_type": "stream",
     "text": [
      "Enter number4\n",
      "AVialable\n"
     ]
    }
   ],
   "source": [
    "x=int(input('Enter number'))\n",
    "if x not in l:\n",
    "    print('x is not avialble')\n",
    "else:\n",
    "    print('AVialable')"
   ]
  },
  {
   "cell_type": "code",
   "execution_count": 59,
   "metadata": {},
   "outputs": [],
   "source": [
    "from random import randint"
   ]
  },
  {
   "cell_type": "code",
   "execution_count": 60,
   "metadata": {},
   "outputs": [],
   "source": [
    "l1=[i for i in range(2,101,2)]\n",
    "l2=[i for i in range(1,100,2)]"
   ]
  },
  {
   "cell_type": "code",
   "execution_count": 61,
   "metadata": {},
   "outputs": [
    {
     "name": "stdout",
     "output_type": "stream",
     "text": [
      "Enter a number45\n",
      "45 is Odd\n"
     ]
    }
   ],
   "source": [
    "x=int(input('Enter a number'))\n",
    "if x in l1:\n",
    "    print(f'{x} is Even')\n",
    "else:\n",
    "    print(f'{x} is Odd')"
   ]
  },
  {
   "cell_type": "code",
   "execution_count": 62,
   "metadata": {},
   "outputs": [
    {
     "name": "stdout",
     "output_type": "stream",
     "text": [
      "Enter a number56\n",
      "56 is Even\n"
     ]
    }
   ],
   "source": [
    "x=int(input('Enter a number'))\n",
    "if x in l1:\n",
    "    print(f'{x} is Even')\n",
    "else:\n",
    "    print(f'{x} is Odd')"
   ]
  },
  {
   "cell_type": "code",
   "execution_count": 63,
   "metadata": {},
   "outputs": [
    {
     "name": "stdout",
     "output_type": "stream",
     "text": [
      "Enter a number502\n",
      "502 is Odd\n"
     ]
    }
   ],
   "source": [
    "x=int(input('Enter a number'))\n",
    "if x in l1:\n",
    "    print(f'{x} is Even')\n",
    "else:\n",
    "    print(f'{x} is Odd')"
   ]
  },
  {
   "cell_type": "code",
   "execution_count": 64,
   "metadata": {},
   "outputs": [
    {
     "name": "stdout",
     "output_type": "stream",
     "text": [
      "Enter a number502\n",
      "502 is Even\n"
     ]
    }
   ],
   "source": [
    "x=int(input('Enter a number'))\n",
    "if x%2==0:\n",
    "    print(f'{x} is Even')\n",
    "else:\n",
    "    print(f'{x} is Odd')"
   ]
  },
  {
   "cell_type": "code",
   "execution_count": 65,
   "metadata": {},
   "outputs": [
    {
     "name": "stdout",
     "output_type": "stream",
     "text": [
      "Enter a number4773284\n",
      "4773284 is Even\n"
     ]
    }
   ],
   "source": [
    "x=int(input('Enter a number'))\n",
    "if x%2==0:\n",
    "    print(f'{x} is Even')\n",
    "else:\n",
    "    print(f'{x} is Odd')"
   ]
  },
  {
   "cell_type": "code",
   "execution_count": 66,
   "metadata": {},
   "outputs": [
    {
     "name": "stdout",
     "output_type": "stream",
     "text": [
      "Enter a number5478584891\n",
      "5478584891 is Odd\n"
     ]
    }
   ],
   "source": [
    "x=int(input('Enter a number'))\n",
    "if x%2==0:\n",
    "    print(f'{x} is Even')\n",
    "else:\n",
    "    print(f'{x} is Odd')"
   ]
  },
  {
   "cell_type": "code",
   "execution_count": 67,
   "metadata": {},
   "outputs": [
    {
     "name": "stdout",
     "output_type": "stream",
     "text": [
      "Enter a number56\n",
      "56 is not divisible by 5\n"
     ]
    }
   ],
   "source": [
    "x=int(input('Enter a number'))\n",
    "if x%5==0:\n",
    "    print(f'{x} is divisible by 5')\n",
    "else:\n",
    "    print(f\"{x} is not divisible by 5\")"
   ]
  },
  {
   "cell_type": "code",
   "execution_count": 68,
   "metadata": {},
   "outputs": [
    {
     "name": "stdout",
     "output_type": "stream",
     "text": [
      "Enter a number45\n",
      "45 is divisible by 5\n"
     ]
    }
   ],
   "source": [
    "x=int(input('Enter a number'))\n",
    "if x%5==0:\n",
    "    print(f'{x} is divisible by 5')\n",
    "else:\n",
    "    print(f\"{x} is not divisible by 5\")"
   ]
  },
  {
   "cell_type": "code",
   "execution_count": 70,
   "metadata": {},
   "outputs": [
    {
     "name": "stdout",
     "output_type": "stream",
     "text": [
      "Enter a number56\n",
      "56 is not divisible by 5 and 7\n"
     ]
    }
   ],
   "source": [
    "x=int(input('Enter a number'))\n",
    "if x%5==0 and x%7==0:\n",
    "    print(f'{x} is divisible by 5 and 7')\n",
    "else:\n",
    "    print(f\"{x} is not divisible by 5 and 7\")"
   ]
  },
  {
   "cell_type": "code",
   "execution_count": 71,
   "metadata": {},
   "outputs": [
    {
     "name": "stdout",
     "output_type": "stream",
     "text": [
      "Enter a number45\n",
      "45 is not divisible by 5 and 7\n"
     ]
    }
   ],
   "source": [
    "x=int(input('Enter a number'))\n",
    "if x%5==0 and x%7==0:\n",
    "    print(f'{x} is divisible by 5 and 7')\n",
    "else:\n",
    "    print(f\"{x} is not divisible by 5 and 7\")"
   ]
  },
  {
   "cell_type": "code",
   "execution_count": 72,
   "metadata": {},
   "outputs": [
    {
     "name": "stdout",
     "output_type": "stream",
     "text": [
      "Enter a number34\n",
      "34 is not divisible by 5 and 7\n"
     ]
    }
   ],
   "source": [
    "x=int(input('Enter a number'))\n",
    "if x%5==0 and x%7==0:\n",
    "    print(f'{x} is divisible by 5 and 7')\n",
    "else:\n",
    "    print(f\"{x} is not divisible by 5 and 7\")"
   ]
  },
  {
   "cell_type": "code",
   "execution_count": 73,
   "metadata": {},
   "outputs": [
    {
     "name": "stdout",
     "output_type": "stream",
     "text": [
      "Enter a number35\n",
      "35 is divisible by 5 and 7\n"
     ]
    }
   ],
   "source": [
    "x=int(input('Enter a number'))\n",
    "if x%5==0 and x%7==0:\n",
    "    print(f'{x} is divisible by 5 and 7')\n",
    "else:\n",
    "    print(f\"{x} is not divisible by 5 and 7\")"
   ]
  },
  {
   "cell_type": "code",
   "execution_count": 74,
   "metadata": {},
   "outputs": [
    {
     "name": "stdout",
     "output_type": "stream",
     "text": [
      "Enter a number45\n",
      "45 is divisible by 5 and 7\n"
     ]
    }
   ],
   "source": [
    "x=int(input('Enter a number'))\n",
    "if x%5==0 or x%7==0:\n",
    "    print(f'{x} is divisible by 5 and 7')\n",
    "else:\n",
    "    print(f\"{x} is not divisible by 5 and 7\")"
   ]
  },
  {
   "cell_type": "code",
   "execution_count": 75,
   "metadata": {},
   "outputs": [
    {
     "name": "stdout",
     "output_type": "stream",
     "text": [
      "Enter a number49\n",
      "49 is divisible by 5 and 7\n"
     ]
    }
   ],
   "source": [
    "x=int(input('Enter a number'))\n",
    "if x%5==0 or x%7==0:\n",
    "    print(f'{x} is divisible by 5 and 7')\n",
    "else:\n",
    "    print(f\"{x} is not divisible by 5 and 7\")"
   ]
  },
  {
   "cell_type": "code",
   "execution_count": 76,
   "metadata": {},
   "outputs": [
    {
     "name": "stdout",
     "output_type": "stream",
     "text": [
      "Enter a number35\n",
      "35 is divisible by 5 and 7\n"
     ]
    }
   ],
   "source": [
    "x=int(input('Enter a number'))\n",
    "if x%5==0 or x%7==0:\n",
    "    print(f'{x} is divisible by 5 and 7')\n",
    "else:\n",
    "    print(f\"{x} is not divisible by 5 and 7\")"
   ]
  },
  {
   "cell_type": "code",
   "execution_count": 77,
   "metadata": {},
   "outputs": [
    {
     "name": "stdout",
     "output_type": "stream",
     "text": [
      "Enter a number76\n",
      "76 is not divisible by 5 and 7\n"
     ]
    }
   ],
   "source": [
    "x=int(input('Enter a number'))\n",
    "if x%5==0 or x%7==0:\n",
    "    print(f'{x} is divisible by 5 and 7')\n",
    "else:\n",
    "    print(f\"{x} is not divisible by 5 and 7\")"
   ]
  },
  {
   "cell_type": "code",
   "execution_count": 78,
   "metadata": {},
   "outputs": [
    {
     "name": "stdout",
     "output_type": "stream",
     "text": [
      "Enter first number5\n",
      "Enter second Number4\n",
      "5 is greater than 4\n"
     ]
    }
   ],
   "source": [
    "x=int(input('Enter first number'))\n",
    "y=int(input('Enter second Number'))\n",
    "if x>y:\n",
    "    print(f'{x} is greater than {y}')\n",
    "else:\n",
    "    print(f'{y} is greater than {x}')"
   ]
  },
  {
   "cell_type": "code",
   "execution_count": 80,
   "metadata": {},
   "outputs": [
    {
     "name": "stdout",
     "output_type": "stream",
     "text": [
      "Enter first number76\n",
      "Enter second Number87\n",
      "87\n"
     ]
    }
   ],
   "source": [
    "x=int(input('Enter first number'))\n",
    "y=int(input('Enter second Number'))\n",
    "if x>y:\n",
    "    print(x)\n",
    "else:\n",
    "    print(y)"
   ]
  },
  {
   "cell_type": "code",
   "execution_count": 81,
   "metadata": {},
   "outputs": [
    {
     "name": "stdout",
     "output_type": "stream",
     "text": [
      "Enter a number56\n",
      "56 is divisible by 2\n"
     ]
    }
   ],
   "source": [
    "x=int(input('Enter a number'))\n",
    "if x%2==0:\n",
    "    print(f'{x} is divisible by 2')\n",
    "elif x%3==0:\n",
    "    print(f'{x} is divisible by 3')\n",
    "elif x%5==0:\n",
    "    print(f'{x} is divisible by 5')\n",
    "elif x%7==0:\n",
    "    print(f'{x} is divisible by 7')\n",
    "elif x%11==0:\n",
    "    print(f'{x} is divisible by 5')\n",
    "else:\n",
    "    print(f'{x} is not divisible by 2,3,5,7,9,11')"
   ]
  },
  {
   "cell_type": "code",
   "execution_count": 82,
   "metadata": {},
   "outputs": [
    {
     "name": "stdout",
     "output_type": "stream",
     "text": [
      "Enter a number45\n",
      "45 is divisible by 3\n"
     ]
    }
   ],
   "source": [
    "x=int(input('Enter a number'))\n",
    "if x%2==0:\n",
    "    print(f'{x} is divisible by 2')\n",
    "elif x%3==0:\n",
    "    print(f'{x} is divisible by 3')\n",
    "elif x%5==0:\n",
    "    print(f'{x} is divisible by 5')\n",
    "elif x%7==0:\n",
    "    print(f'{x} is divisible by 7')\n",
    "elif x%11==0:\n",
    "    print(f'{x} is divisible by 5')\n",
    "else:\n",
    "    print(f'{x} is not divisible by 2,3,5,7,9,11')"
   ]
  },
  {
   "cell_type": "code",
   "execution_count": 83,
   "metadata": {},
   "outputs": [
    {
     "name": "stdout",
     "output_type": "stream",
     "text": [
      "Enter a number25\n",
      "25 is divisible by 5\n"
     ]
    }
   ],
   "source": [
    "x=int(input('Enter a number'))\n",
    "if x%2==0:\n",
    "    print(f'{x} is divisible by 2')\n",
    "elif x%3==0:\n",
    "    print(f'{x} is divisible by 3')\n",
    "elif x%5==0:\n",
    "    print(f'{x} is divisible by 5')\n",
    "elif x%7==0:\n",
    "    print(f'{x} is divisible by 7')\n",
    "elif x%11==0:\n",
    "    print(f'{x} is divisible by 11')\n",
    "else:\n",
    "    print(f'{x} is not divisible by 2,3,5,7,9,11')"
   ]
  },
  {
   "cell_type": "code",
   "execution_count": 84,
   "metadata": {},
   "outputs": [
    {
     "name": "stdout",
     "output_type": "stream",
     "text": [
      "Enter a number49\n",
      "49 is divisible by 7\n"
     ]
    }
   ],
   "source": [
    "x=int(input('Enter a number'))\n",
    "if x%2==0:\n",
    "    print(f'{x} is divisible by 2')\n",
    "elif x%3==0:\n",
    "    print(f'{x} is divisible by 3')\n",
    "elif x%5==0:\n",
    "    print(f'{x} is divisible by 5')\n",
    "elif x%7==0:\n",
    "    print(f'{x} is divisible by 7')\n",
    "elif x%11==0:\n",
    "    print(f'{x} is divisible by 5')\n",
    "else:\n",
    "    print(f'{x} is not divisible by 2,3,5,7,9,11')"
   ]
  },
  {
   "cell_type": "code",
   "execution_count": 85,
   "metadata": {},
   "outputs": [
    {
     "name": "stdout",
     "output_type": "stream",
     "text": [
      "Enter a number121\n",
      "121 is divisible by 11\n"
     ]
    }
   ],
   "source": [
    "x=int(input('Enter a number'))\n",
    "if x%2==0:\n",
    "    print(f'{x} is divisible by 2')\n",
    "elif x%3==0:\n",
    "    print(f'{x} is divisible by 3')\n",
    "elif x%5==0:\n",
    "    print(f'{x} is divisible by 5')\n",
    "elif x%7==0:\n",
    "    print(f'{x} is divisible by 7')\n",
    "elif x%11==0:\n",
    "    print(f'{x} is divisible by 11')\n",
    "else:\n",
    "    print(f'{x} is not divisible by 2,3,5,7,9,11')"
   ]
  },
  {
   "cell_type": "code",
   "execution_count": 86,
   "metadata": {},
   "outputs": [
    {
     "name": "stdout",
     "output_type": "stream",
     "text": [
      "Enter a number23\n",
      "23 is not divisible by 2,3,5,7,9,11\n"
     ]
    }
   ],
   "source": [
    "x=int(input('Enter a number'))\n",
    "if x%2==0:\n",
    "    print(f'{x} is divisible by 2')\n",
    "elif x%3==0:\n",
    "    print(f'{x} is divisible by 3')\n",
    "elif x%5==0:\n",
    "    print(f'{x} is divisible by 5')\n",
    "elif x%7==0:\n",
    "    print(f'{x} is divisible by 7')\n",
    "elif x%11==0:\n",
    "    print(f'{x} is divisible by 11')\n",
    "else:\n",
    "    print(f'{x} is not divisible by 2,3,5,7,9,11')"
   ]
  },
  {
   "cell_type": "code",
   "execution_count": 90,
   "metadata": {},
   "outputs": [],
   "source": [
    "arith=['+','-','*','/','//','%','**']\n",
    "log=['and','or','not']\n",
    "rel=['<','>','<=','>=','!=','==']\n",
    "bit=['&','|','~','^']\n",
    "assign=['=','+=','-=','*=','/=','//=','%=']"
   ]
  },
  {
   "cell_type": "code",
   "execution_count": 88,
   "metadata": {},
   "outputs": [],
   "source": [
    "x=1\n",
    "x=x+7#x+=7\n",
    "x=4\n",
    "x=x/2#x/=4"
   ]
  },
  {
   "cell_type": "code",
   "execution_count": 89,
   "metadata": {},
   "outputs": [
    {
     "name": "stdout",
     "output_type": "stream",
     "text": [
      "8\n"
     ]
    }
   ],
   "source": [
    "print(x)"
   ]
  },
  {
   "cell_type": "code",
   "execution_count": 93,
   "metadata": {},
   "outputs": [
    {
     "name": "stdout",
     "output_type": "stream",
     "text": [
      "Enter any operator symbol+\n",
      "Arithmatic Operator\n",
      "Enter any operator symboland\n",
      "Logical Operator\n",
      "Enter any operator symbol<\n",
      "Relational Operator\n",
      "Enter any operator symbol&\n",
      "Bitwise Operator\n",
      "Enter any operator symbol+=\n",
      "Assignment Operator\n",
      "Enter any operator symbol()\n",
      "Invalid Opearator\n"
     ]
    }
   ],
   "source": [
    "for i in range(6):\n",
    "    x=input('Enter any operator symbol')\n",
    "    if x in arith:\n",
    "        print('Arithmatic Operator')\n",
    "    elif x in log:\n",
    "        print('Logical Operator')\n",
    "    elif x in rel:\n",
    "        print('Relational Operator')\n",
    "    elif x in bit:\n",
    "        print('Bitwise Operator')\n",
    "    elif x in assign:\n",
    "        print('Assignment Operator')\n",
    "    else:\n",
    "        print('Invalid Opearator')"
   ]
  },
  {
   "cell_type": "markdown",
   "metadata": {},
   "source": [
    "**Q.1 Leap Year Check.**<br>\n",
    "**Q.2 Write a program which takes input Name of student and show that student belong in which section.**<br>\n",
    "**A-E--->section(1)**<br>\n",
    "**F-K--->section(2)**<br>\n",
    "**L-R--->section(3)**<br>\n",
    "**S-Z--->section(4)**<br>\n",
    "**Q.3 write a python program to check a number is prime or not. **<br>\n",
    "**Q.4 write a python program to check a number is divisible by 5,7,9,12,15.**<br>\n",
    "**Q.5 write a python program to check season of year while taking input from user as month name.**<br>\n",
    "**11-2(Winter)**<br>\n",
    "**3-6(Summer)**<br>\n",
    "**7-10(Rain)**<br>"
   ]
  },
  {
   "cell_type": "code",
   "execution_count": 95,
   "metadata": {},
   "outputs": [
    {
     "data": {
      "text/plain": [
       "3"
      ]
     },
     "execution_count": 95,
     "metadata": {},
     "output_type": "execute_result"
    }
   ],
   "source": [
    "1 and 2 and 3"
   ]
  },
  {
   "cell_type": "code",
   "execution_count": null,
   "metadata": {},
   "outputs": [],
   "source": []
  }
 ],
 "metadata": {
  "kernelspec": {
   "display_name": "Python 3",
   "language": "python",
   "name": "python3"
  },
  "language_info": {
   "codemirror_mode": {
    "name": "ipython",
    "version": 3
   },
   "file_extension": ".py",
   "mimetype": "text/x-python",
   "name": "python",
   "nbconvert_exporter": "python",
   "pygments_lexer": "ipython3",
   "version": "3.7.3"
  }
 },
 "nbformat": 4,
 "nbformat_minor": 2
}
