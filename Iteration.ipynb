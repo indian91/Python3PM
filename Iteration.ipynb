{
 "cells": [
  {
   "cell_type": "raw",
   "metadata": {},
   "source": [
    "#1.WAP to calculate total bill amount of a restaurent.....\n",
    "\n",
    "Vage Thali--->100\n",
    "Non Vage Thali--->150\n",
    "\n",
    "Home Delivery is only option\n",
    "\n",
    "First Input is that how many thali's u required.\n",
    "Restuarent has some charges for home delivery......\n",
    "\n",
    "second input is that Distance from restaurent.....\n",
    "A. If distance is 0-3km then delivery is free.\n",
    "B. IF distance is 4-6km then delivery is 3/km\n",
    "C. If delivery is 7-10 then charges is 5/km\n",
    "D. Else Delivery is not Avialabel.\n",
    "\n"
   ]
  },
  {
   "cell_type": "code",
   "execution_count": 1,
   "metadata": {},
   "outputs": [],
   "source": [
    "s='hello world'"
   ]
  },
  {
   "cell_type": "code",
   "execution_count": 2,
   "metadata": {},
   "outputs": [
    {
     "name": "stdout",
     "output_type": "stream",
     "text": [
      "h\n",
      "e\n",
      "l\n",
      "l\n",
      "o\n",
      " \n",
      "w\n",
      "o\n",
      "r\n",
      "l\n",
      "d\n"
     ]
    }
   ],
   "source": [
    "for i in s:\n",
    "    print(i)"
   ]
  },
  {
   "cell_type": "code",
   "execution_count": 3,
   "metadata": {},
   "outputs": [
    {
     "name": "stdout",
     "output_type": "stream",
     "text": [
      "index of h--->0\n",
      "index of e--->1\n",
      "index of l--->2\n",
      "index of l--->2\n",
      "index of o--->4\n",
      "index of  --->5\n",
      "index of w--->6\n",
      "index of o--->4\n",
      "index of r--->8\n",
      "index of l--->2\n",
      "index of d--->10\n"
     ]
    }
   ],
   "source": [
    "for i in s:\n",
    "    print(f'index of {i}--->{s.index(i)}')"
   ]
  },
  {
   "cell_type": "code",
   "execution_count": 4,
   "metadata": {},
   "outputs": [],
   "source": [
    "l=[1,2,3,4,5,6]"
   ]
  },
  {
   "cell_type": "code",
   "execution_count": 7,
   "metadata": {},
   "outputs": [
    {
     "name": "stdout",
     "output_type": "stream",
     "text": [
      "1\n",
      "hello world\n",
      "2\n",
      "hello world\n",
      "3\n",
      "hello world\n",
      "4\n",
      "hello world\n",
      "5\n",
      "hello world\n",
      "6\n",
      "hello world\n"
     ]
    }
   ],
   "source": [
    "for i in l:\n",
    "    print(i)\n",
    "    print('hello world')"
   ]
  },
  {
   "cell_type": "code",
   "execution_count": null,
   "metadata": {},
   "outputs": [],
   "source": [
    "for i in l:\n",
    "    print(i)\n",
    "    print(l)"
   ]
  },
  {
   "cell_type": "code",
   "execution_count": 8,
   "metadata": {},
   "outputs": [
    {
     "data": {
      "text/plain": [
       "[1, 2, 3, 4, 5, 6]"
      ]
     },
     "execution_count": 8,
     "metadata": {},
     "output_type": "execute_result"
    }
   ],
   "source": [
    "l"
   ]
  },
  {
   "cell_type": "code",
   "execution_count": 9,
   "metadata": {},
   "outputs": [
    {
     "name": "stdout",
     "output_type": "stream",
     "text": [
      "[1, 2, 3, 4, 5, 6]\n"
     ]
    }
   ],
   "source": [
    "print(l)"
   ]
  },
  {
   "cell_type": "code",
   "execution_count": 10,
   "metadata": {},
   "outputs": [
    {
     "name": "stdout",
     "output_type": "stream",
     "text": [
      "[1, 2, 3, 4, 5, 6]\n",
      "[1, 2, 3, 4, 5, 6]\n",
      "[1, 2, 3, 4, 5, 6]\n",
      "[1, 2, 3, 4, 5, 6]\n",
      "[1, 2, 3, 4, 5, 6]\n",
      "[1, 2, 3, 4, 5, 6]\n"
     ]
    }
   ],
   "source": [
    "print(l)\n",
    "print(l)\n",
    "print(l)\n",
    "print(l)\n",
    "print(l)\n",
    "print(l)"
   ]
  },
  {
   "cell_type": "code",
   "execution_count": 13,
   "metadata": {},
   "outputs": [
    {
     "name": "stdout",
     "output_type": "stream",
     "text": [
      "[1, 2, 3, 4, 5, 6]\n",
      "[1, 2, 3, 4, 5, 6]\n",
      "[1, 2, 3, 4, 5, 6]\n",
      "[1, 2, 3, 4, 5, 6]\n",
      "[1, 2, 3, 4, 5, 6]\n",
      "[1, 2, 3, 4, 5, 6]\n"
     ]
    }
   ],
   "source": [
    "for i in l:\n",
    "    print(l)"
   ]
  },
  {
   "cell_type": "code",
   "execution_count": 14,
   "metadata": {},
   "outputs": [],
   "source": [
    "d={'Name':'sachin','Course':'DS','Age':24}"
   ]
  },
  {
   "cell_type": "code",
   "execution_count": 15,
   "metadata": {},
   "outputs": [
    {
     "name": "stdout",
     "output_type": "stream",
     "text": [
      "Name\n",
      "Course\n",
      "Age\n"
     ]
    }
   ],
   "source": [
    "for i in d:\n",
    "    print(i)"
   ]
  },
  {
   "cell_type": "code",
   "execution_count": 16,
   "metadata": {},
   "outputs": [
    {
     "ename": "KeyError",
     "evalue": "'sachin'",
     "output_type": "error",
     "traceback": [
      "\u001b[1;31m---------------------------------------------------------------------------\u001b[0m",
      "\u001b[1;31mKeyError\u001b[0m                                  Traceback (most recent call last)",
      "\u001b[1;32m<ipython-input-16-36ad49b67e09>\u001b[0m in \u001b[0;36m<module>\u001b[1;34m\u001b[0m\n\u001b[0;32m      1\u001b[0m \u001b[1;32mfor\u001b[0m \u001b[0mi\u001b[0m \u001b[1;32min\u001b[0m \u001b[0md\u001b[0m\u001b[1;33m.\u001b[0m\u001b[0mvalues\u001b[0m\u001b[1;33m(\u001b[0m\u001b[1;33m)\u001b[0m\u001b[1;33m:\u001b[0m\u001b[1;33m\u001b[0m\u001b[1;33m\u001b[0m\u001b[0m\n\u001b[1;32m----> 2\u001b[1;33m     \u001b[0mprint\u001b[0m\u001b[1;33m(\u001b[0m\u001b[0md\u001b[0m\u001b[1;33m[\u001b[0m\u001b[0mi\u001b[0m\u001b[1;33m]\u001b[0m\u001b[1;33m)\u001b[0m\u001b[1;33m\u001b[0m\u001b[1;33m\u001b[0m\u001b[0m\n\u001b[0m",
      "\u001b[1;31mKeyError\u001b[0m: 'sachin'"
     ]
    }
   ],
   "source": [
    "for i in d.values():\n",
    "    print(d[i])"
   ]
  },
  {
   "cell_type": "code",
   "execution_count": 17,
   "metadata": {},
   "outputs": [
    {
     "name": "stdout",
     "output_type": "stream",
     "text": [
      "sachin\n",
      "DS\n",
      "24\n"
     ]
    }
   ],
   "source": [
    "for i in d.keys():\n",
    "    print(d[i])"
   ]
  },
  {
   "cell_type": "code",
   "execution_count": 19,
   "metadata": {},
   "outputs": [
    {
     "name": "stdout",
     "output_type": "stream",
     "text": [
      "('Name', 'sachin') ('Course', 'DS') ('Age', 24)\n",
      "('Name', 'sachin') ('Course', 'DS') ('Age', 24)\n",
      "('Name', 'sachin') ('Course', 'DS') ('Age', 24)\n"
     ]
    }
   ],
   "source": [
    "for i in d.values():\n",
    "    print(*zip(d.keys(),d.values()))"
   ]
  },
  {
   "cell_type": "code",
   "execution_count": 18,
   "metadata": {},
   "outputs": [
    {
     "name": "stdout",
     "output_type": "stream",
     "text": [
      "('Name', 'sachin') ('Course', 'DS') ('Age', 24)\n"
     ]
    }
   ],
   "source": [
    "print(*zip(d.keys(),d.values()))"
   ]
  },
  {
   "cell_type": "code",
   "execution_count": 20,
   "metadata": {},
   "outputs": [
    {
     "name": "stdout",
     "output_type": "stream",
     "text": [
      "dict_values(['sachin', 'DS', 24])\n",
      "dict_values(['sachin', 'DS', 24])\n",
      "dict_values(['sachin', 'DS', 24])\n",
      "dict_values(['sachin', 'DS', 24])\n",
      "dict_values(['sachin', 'DS', 24])\n",
      "dict_values(['sachin', 'DS', 24])\n",
      "dict_values(['sachin', 'DS', 24])\n",
      "dict_values(['sachin', 'DS', 24])\n",
      "dict_values(['sachin', 'DS', 24])\n"
     ]
    }
   ],
   "source": [
    "for i in range(1,10,1):\n",
    "    print(d.values())"
   ]
  },
  {
   "cell_type": "code",
   "execution_count": 21,
   "metadata": {},
   "outputs": [
    {
     "name": "stdout",
     "output_type": "stream",
     "text": [
      "*\n"
     ]
    }
   ],
   "source": [
    "print('*')"
   ]
  },
  {
   "cell_type": "code",
   "execution_count": 27,
   "metadata": {},
   "outputs": [
    {
     "name": "stdout",
     "output_type": "stream",
     "text": [
      "**********\n",
      "**********\n",
      "**********\n",
      "**********\n",
      "**********\n",
      "**********\n",
      "**********\n",
      "**********\n",
      "**********\n",
      "**********\n"
     ]
    }
   ],
   "source": [
    "for j in range(10):\n",
    "    for i in range(10):\n",
    "        print('*',end='')\n",
    "    print()"
   ]
  },
  {
   "cell_type": "code",
   "execution_count": 29,
   "metadata": {},
   "outputs": [
    {
     "name": "stdout",
     "output_type": "stream",
     "text": [
      "Odd,Even,Odd,Even,Odd,Even,Odd,Even,Odd,Even,Odd,Even,Odd,Even,Odd,Even,Odd,Even,Odd,Even,Odd,Even,Odd,Even,Odd,Even,Odd,Even,Odd,Even,Odd,Even,Odd,Even,Odd,Even,Odd,Even,Odd,Even,Odd,Even,Odd,Even,Odd,Even,Odd,Even,Odd,Even,Odd,Even,Odd,Even,Odd,Even,Odd,Even,Odd,Even,Odd,Even,Odd,Even,Odd,Even,Odd,Even,Odd,Even,Odd,Even,Odd,Even,Odd,Even,Odd,Even,Odd,Even,Odd,Even,Odd,Even,Odd,Even,Odd,Even,Odd,Even,Odd,Even,Odd,Even,Odd,Even,Odd,Even,Odd,"
     ]
    }
   ],
   "source": [
    "for i in range(1,100):\n",
    "    if i%2==0:\n",
    "        print('Even',end=',')\n",
    "    else:\n",
    "        print('Odd',end=',')"
   ]
  },
  {
   "cell_type": "code",
   "execution_count": 30,
   "metadata": {},
   "outputs": [
    {
     "name": "stdout",
     "output_type": "stream",
     "text": [
      "Odd  Even  Odd  Even  Odd  Even  Odd  Even  Odd  Even  Odd  Even  Odd  Even  Odd  Even  Odd  Even  Odd  Even  "
     ]
    }
   ],
   "source": [
    "for i in range(1,21):\n",
    "    if i%2:\n",
    "        print('Odd',end='  ')\n",
    "    else:\n",
    "        print('Even',end='  ')"
   ]
  },
  {
   "cell_type": "code",
   "execution_count": null,
   "metadata": {},
   "outputs": [],
   "source": [
    "for  i in range(1,100):\n",
    "    if i%5==0 and i%7==0:\n",
    "        print('Number is divisible by 5 and 7 both')\n",
    "        print(i)\n",
    "    else:\n",
    "        if i%5==0:\n",
    "            print('Number is not  divisible by 7')\n",
    "        else:\n",
    "            print('Number is not divisible by 5')"
   ]
  },
  {
   "cell_type": "code",
   "execution_count": null,
   "metadata": {},
   "outputs": [],
   "source": [
    "for  i in range(1,100):\n",
    "    if i%5==0 and i%7==0:\n",
    "        print('Number is divisible by 5 and 7 both')\n",
    "        print(i)\n",
    "    elif i%5==0:\n",
    "        print('Divisible by 5')\n",
    "    elif i%7==0:\n",
    "        print('Divisible by 7')\n",
    "    else:\n",
    "        print('Not Divisible by Both')"
   ]
  },
  {
   "cell_type": "code",
   "execution_count": null,
   "metadata": {},
   "outputs": [],
   "source": [
    "#2.WAP to take input from user and Check that Triangle can be formed or not.\n",
    "#3.Check that a string is pallindrome or not.\n",
    "#4.WAP to make amount......\n",
    "28---->total ruppess you have to pay to the shop\n",
    "no. of 5---->4\n",
    "no. of 1----->10\n",
    "\n",
    "What is the minimum number of coin in which u made a successful payment.\n",
    "\n",
    "\n",
    "amount--->28\n",
    "\n",
    "5*3==>15\n",
    "1*10==>10\n",
    "__________\n",
    "Insufficient \n",
    "\n",
    "5*5==>25\n",
    "1*2===>2\n",
    "__________\n",
    "Not Avialable in required form\n",
    "____________________________________"
   ]
  }
 ],
 "metadata": {
  "kernelspec": {
   "display_name": "Python 3",
   "language": "python",
   "name": "python3"
  },
  "language_info": {
   "codemirror_mode": {
    "name": "ipython",
    "version": 3
   },
   "file_extension": ".py",
   "mimetype": "text/x-python",
   "name": "python",
   "nbconvert_exporter": "python",
   "pygments_lexer": "ipython3",
   "version": "3.7.3"
  }
 },
 "nbformat": 4,
 "nbformat_minor": 2
}
