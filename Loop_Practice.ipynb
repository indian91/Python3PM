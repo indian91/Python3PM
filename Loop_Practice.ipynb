{
 "cells": [
  {
   "cell_type": "raw",
   "metadata": {},
   "source": [
    "1.Pallindrome Number\n",
    "2.Armstrong Number\n",
    "3.Factorial Number\n",
    "4.RightAngle Triangle \n",
    "5.Calculate Bill of a Taxi"
   ]
  },
  {
   "cell_type": "code",
   "execution_count": 3,
   "metadata": {},
   "outputs": [
    {
     "name": "stdout",
     "output_type": "stream",
     "text": [
      "Enter a number....123454321\n",
      "Pallindrome\n"
     ]
    }
   ],
   "source": [
    "x=int(input('Enter a number....'))#1221\n",
    "temp=x\n",
    "r=0\n",
    "while x!=0:\n",
    "    m=x%10\n",
    "    r=r*10+m#1--->1*10+2--->12-->12*10+2--->122--->122*10+1--->1221\n",
    "    x=x//10 \n",
    "if  temp==r:\n",
    "    print('Pallindrome')\n",
    "else:\n",
    "    print('Not Pallindrome')"
   ]
  },
  {
   "cell_type": "code",
   "execution_count": 4,
   "metadata": {},
   "outputs": [
    {
     "name": "stdout",
     "output_type": "stream",
     "text": [
      "Enter a number....1234\n",
      "Not Pallindrome\n"
     ]
    }
   ],
   "source": [
    "x=int(input('Enter a number....'))#1221\n",
    "temp=x\n",
    "r=0\n",
    "while x!=0:\n",
    "    m=x%10\n",
    "    r=r*10+m#1--->1*10+2--->12-->12*10+2--->122--->122*10+1--->1221\n",
    "    x=x//10 \n",
    "if  temp==r:\n",
    "    print('Pallindrome')\n",
    "else:\n",
    "    print('Not Pallindrome')"
   ]
  },
  {
   "cell_type": "code",
   "execution_count": null,
   "metadata": {},
   "outputs": [],
   "source": [
    "xyz===>1**3+y**3+z**3--->xyz\n",
    "\n",
    "153===>1**3+5**3+3**3==153"
   ]
  },
  {
   "cell_type": "code",
   "execution_count": null,
   "metadata": {},
   "outputs": [],
   "source": [
    "x=int(input('Enter a number....'))#1221\n",
    "temp=x\n",
    "r=0\n",
    "while x!=0:\n",
    "    m=x%10\n",
    "    r=r*10+m\n",
    "    x=x//10 \n",
    "if  temp==r:\n",
    "    print('Pallindrome')\n",
    "else:\n",
    "    print('Not Pallindrome')"
   ]
  },
  {
   "cell_type": "code",
   "execution_count": 5,
   "metadata": {},
   "outputs": [
    {
     "data": {
      "text/plain": [
       "True"
      ]
     },
     "execution_count": 5,
     "metadata": {},
     "output_type": "execute_result"
    }
   ],
   "source": [
    "153==1**3+5**3+3**3"
   ]
  },
  {
   "cell_type": "code",
   "execution_count": 6,
   "metadata": {},
   "outputs": [
    {
     "data": {
      "text/plain": [
       "False"
      ]
     },
     "execution_count": 6,
     "metadata": {},
     "output_type": "execute_result"
    }
   ],
   "source": [
    "1564==1**4+5**4+6**4+4**4"
   ]
  },
  {
   "cell_type": "code",
   "execution_count": 15,
   "metadata": {
    "scrolled": true
   },
   "outputs": [
    {
     "name": "stdout",
     "output_type": "stream",
     "text": [
      "1634\n",
      "8208\n",
      "9474\n"
     ]
    }
   ],
   "source": [
    "for x in range(1000,10000):\n",
    "    temp=x\n",
    "    r=0\n",
    "    while x!=0:\n",
    "        m=x%10\n",
    "        r=r+m**(len(str(temp)))\n",
    "        x=x//10 \n",
    "    if  temp==r:\n",
    "        print(temp)"
   ]
  },
  {
   "cell_type": "code",
   "execution_count": 14,
   "metadata": {},
   "outputs": [
    {
     "data": {
      "text/plain": [
       "407"
      ]
     },
     "execution_count": 14,
     "metadata": {},
     "output_type": "execute_result"
    }
   ],
   "source": [
    "4**3+7**3"
   ]
  },
  {
   "cell_type": "code",
   "execution_count": 16,
   "metadata": {},
   "outputs": [
    {
     "data": {
      "text/plain": [
       "9474"
      ]
     },
     "execution_count": 16,
     "metadata": {},
     "output_type": "execute_result"
    }
   ],
   "source": [
    "9**4+4**4+7**4+4**4"
   ]
  },
  {
   "cell_type": "code",
   "execution_count": 6,
   "metadata": {},
   "outputs": [
    {
     "name": "stdout",
     "output_type": "stream",
     "text": [
      "101\t111\t121\t131\t141\t151\t161\t171\t181\t191\t202\t212\t222\t232\t242\t252\t262\t272\t282\t292\t303\t313\t323\t333\t343\t353\t363\t373\t383\t393\t404\t414\t424\t434\t444\t454\t464\t474\t484\t494\t505\t515\t525\t535\t545\t555\t565\t575\t585\t595\t606\t616\t626\t636\t646\t656\t666\t676\t686\t696\t707\t717\t727\t737\t747\t757\t767\t777\t787\t797\t808\t818\t828\t838\t848\t858\t868\t878\t888\t898\t909\t919\t929\t939\t949\t959\t969\t979\t989\t999\t"
     ]
    }
   ],
   "source": [
    "c=100\n",
    "while c<1000:    \n",
    "    temp=c\n",
    "    r=0\n",
    "    while temp!=0:\n",
    "        m=temp%10\n",
    "        r=r*10+m\n",
    "        temp=temp//10 \n",
    "    if  c==r:\n",
    "        print(c,end='\\t')\n",
    "        \n",
    "    c+=1"
   ]
  },
  {
   "cell_type": "code",
   "execution_count": 9,
   "metadata": {},
   "outputs": [
    {
     "name": "stdout",
     "output_type": "stream",
     "text": [
      "Enter a number.....5\n",
      "120\n",
      "Enter a number.....6\n",
      "720\n",
      "Enter a number.....7\n",
      "5040\n",
      "Enter a number.....8\n",
      "40320\n",
      "Enter a number.....9\n",
      "362880\n"
     ]
    }
   ],
   "source": [
    "for i in range(5):\n",
    "    x=int(input('Enter a number.....'))\n",
    "    fact=1\n",
    "    while x>1:\n",
    "        fact=fact*x\n",
    "        x-=1\n",
    "    print(fact)"
   ]
  },
  {
   "cell_type": "code",
   "execution_count": 14,
   "metadata": {},
   "outputs": [
    {
     "name": "stdout",
     "output_type": "stream",
     "text": [
      "Enter First angle45\n",
      "Enter Second Angle45\n",
      "Enter Third Angle90\n",
      "This is right angle triangle\n"
     ]
    }
   ],
   "source": [
    "x=int(input('Enter First angle'))\n",
    "y=int(input('Enter Second Angle'))\n",
    "z=int(input('Enter Third Angle'))\n",
    "\n",
    "if x+y+z==180:\n",
    "    if x+y==90 or y+z==90 or z+x==90:\n",
    "        print('This is right angle triangle')\n",
    "    else:\n",
    "        print('Not a Right Angle Triangle')\n",
    "else:\n",
    "    print('Invalid Angles........')\n",
    "    print('Sum of all angles should be 180')"
   ]
  },
  {
   "cell_type": "code",
   "execution_count": 17,
   "metadata": {},
   "outputs": [
    {
     "name": "stdout",
     "output_type": "stream",
     "text": [
      "Enter First Side25\n",
      "Enter Second Side24\n",
      "Enter Third Side5\n",
      "Not a right angle triangle\n"
     ]
    }
   ],
   "source": [
    "x=int(input('Enter First Side'))\n",
    "y=int(input('Enter Second Side'))\n",
    "z=int(input('Enter Third Side'))\n",
    "\n",
    "if x**2==(y**2+z**2) or y**2==(x**2+z**2) or z**2==(x**2+y**2):\n",
    "    print('this is right angle triangle')\n",
    "else:\n",
    "    print('Not a right angle triangle')"
   ]
  },
  {
   "cell_type": "code",
   "execution_count": 18,
   "metadata": {},
   "outputs": [],
   "source": [
    "P=3*x**3+2*x**2-x+5"
   ]
  },
  {
   "cell_type": "code",
   "execution_count": 21,
   "metadata": {},
   "outputs": [
    {
     "name": "stdout",
     "output_type": "stream",
     "text": [
      "-1\n"
     ]
    }
   ],
   "source": [
    "for x in range(-10,10):\n",
    "    if x**2+2*x+1==0:\n",
    "        print(x)"
   ]
  },
  {
   "cell_type": "markdown",
   "metadata": {},
   "source": [
    "$$ x^2+2*x+1 =0$$\n",
    "$$ x^2+x+x+1 =0 $$\n",
    "$$ x(x+1)+1(x+1)=0$$\n",
    "$$ (x+1)(x+1)=0 $$\n",
    "$$ x=-1,-1 $$"
   ]
  },
  {
   "cell_type": "code",
   "execution_count": 22,
   "metadata": {},
   "outputs": [
    {
     "name": "stdout",
     "output_type": "stream",
     "text": [
      "-1\n",
      "4\n"
     ]
    }
   ],
   "source": [
    "for x in range(-10,10):\n",
    "    if x**2-3*x-4==0:\n",
    "        print(x)"
   ]
  },
  {
   "cell_type": "code",
   "execution_count": 23,
   "metadata": {},
   "outputs": [
    {
     "name": "stdout",
     "output_type": "stream",
     "text": [
      "-5\n",
      "-2\n"
     ]
    }
   ],
   "source": [
    "for x in range(-10,10):\n",
    "    if x**2+7*x+10==0:\n",
    "        print(x)"
   ]
  },
  {
   "cell_type": "code",
   "execution_count": 24,
   "metadata": {},
   "outputs": [
    {
     "name": "stdout",
     "output_type": "stream",
     "text": [
      "-2\n",
      "4\n"
     ]
    }
   ],
   "source": [
    "for x in range(-10,10):\n",
    "    if x**2-2*x-8==0:\n",
    "        print(x)"
   ]
  },
  {
   "cell_type": "raw",
   "metadata": {},
   "source": [
    "distance\n",
    "rent/head\n",
    "passanger\n",
    "milege\n",
    "\n",
    "income\n",
    "expense\n",
    "saving\n",
    "\n",
    "\n",
    "\n"
   ]
  },
  {
   "cell_type": "code",
   "execution_count": 27,
   "metadata": {},
   "outputs": [
    {
     "name": "stdout",
     "output_type": "stream",
     "text": [
      "Enter Distance in Kms40\n",
      "Enter fuel price/liter72\n",
      "Milege of Bus10\n",
      "Enter Price/Head80\n",
      "Enter The number of Passenger55\n",
      "We have profit of 4110.0\n"
     ]
    }
   ],
   "source": [
    "dis=int(input('Enter Distance in Kms'))\n",
    "fuel_cost=int(input('Enter fuel price/liter'))\n",
    "milege=int(input('Milege of Bus'))\n",
    "price_head=int(input('Enter Price/Head'))\n",
    "No_of_psngr=int(input('Enter The number of Passenger'))\n",
    "\n",
    "cost=fuel_cost*(dis/milege)\n",
    "income=price_head*No_of_psngr\n",
    "\n",
    "if income>cost:\n",
    "    print(f'We have profit of {round(income-cost)}')\n",
    "elif cost>income:\n",
    "    print(f'We have loss of {round(cost-income)}')\n",
    "else:\n",
    "    print('No Profit No Loss')"
   ]
  },
  {
   "cell_type": "code",
   "execution_count": null,
   "metadata": {},
   "outputs": [],
   "source": []
  }
 ],
 "metadata": {
  "kernelspec": {
   "display_name": "Python 3",
   "language": "python",
   "name": "python3"
  },
  "language_info": {
   "codemirror_mode": {
    "name": "ipython",
    "version": 3
   },
   "file_extension": ".py",
   "mimetype": "text/x-python",
   "name": "python",
   "nbconvert_exporter": "python",
   "pygments_lexer": "ipython3",
   "version": "3.7.3"
  }
 },
 "nbformat": 4,
 "nbformat_minor": 2
}
