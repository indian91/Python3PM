{
 "cells": [
  {
   "cell_type": "markdown",
   "metadata": {},
   "source": [
    "<h1 style='color:blue'>File Handling.....</h1>"
   ]
  },
  {
   "cell_type": "code",
   "execution_count": 5,
   "metadata": {},
   "outputs": [],
   "source": [
    "f=open('percentage.txt','w')\n",
    "s='''Name\\tP\\tC\\tM'''\n",
    "f.write(s)\n",
    "f.close()"
   ]
  },
  {
   "cell_type": "code",
   "execution_count": 6,
   "metadata": {},
   "outputs": [
    {
     "name": "stdout",
     "output_type": "stream",
     "text": [
      "enter nameSamyak\n",
      "Physics Marks89\n",
      "Chemistry Marks92\n",
      "Maths Marks96\n",
      "enter namesachin\n",
      "Physics Marks99\n",
      "Chemistry Marks98\n",
      "Maths Marks78\n",
      "enter nameabhishek\n",
      "Physics Marks98\n",
      "Chemistry Marks78\n",
      "Maths Marks87\n",
      "enter nameasish\n",
      "Physics Marks98\n",
      "Chemistry Marks78\n",
      "Maths Marks77\n",
      "enter namesahil\n",
      "Physics Marks92\n",
      "Chemistry Marks99\n",
      "Maths Marks77\n"
     ]
    }
   ],
   "source": [
    "f=open('percentage.txt','a')\n",
    "for i in range(5):\n",
    "    s=f\"{input('enter name')}\\t{input('Physics Marks')}\\t{input('Chemistry Marks')}\\t{input('Maths Marks')}\"\n",
    "    s='\\n'+s\n",
    "    f.write(s)\n",
    "f.close()"
   ]
  },
  {
   "cell_type": "code",
   "execution_count": 7,
   "metadata": {},
   "outputs": [],
   "source": [
    "f=open('percentage.txt','r')"
   ]
  },
  {
   "cell_type": "code",
   "execution_count": 8,
   "metadata": {},
   "outputs": [],
   "source": [
    "data=f.read()"
   ]
  },
  {
   "cell_type": "code",
   "execution_count": 9,
   "metadata": {},
   "outputs": [
    {
     "name": "stdout",
     "output_type": "stream",
     "text": [
      "Name\tP\tC\tM\n",
      "Samyak\t89\t92\t96\n",
      "sachin\t99\t98\t78\n",
      "abhishek\t98\t78\t87\n",
      "asish\t98\t78\t77\n",
      "sahil\t92\t99\t77\n"
     ]
    }
   ],
   "source": [
    "print(data)"
   ]
  },
  {
   "cell_type": "code",
   "execution_count": 10,
   "metadata": {},
   "outputs": [
    {
     "data": {
      "text/plain": [
       "'Name\\tP\\tC\\tM\\nSamyak\\t89\\t92\\t96\\nsachin\\t99\\t98\\t78\\nabhishek\\t98\\t78\\t87\\nasish\\t98\\t78\\t77\\nsahil\\t92\\t99\\t77'"
      ]
     },
     "execution_count": 10,
     "metadata": {},
     "output_type": "execute_result"
    }
   ],
   "source": [
    "data"
   ]
  },
  {
   "cell_type": "code",
   "execution_count": 11,
   "metadata": {},
   "outputs": [
    {
     "name": "stdout",
     "output_type": "stream",
     "text": [
      "['Name\\tP\\tC\\tM', 'Samyak\\t89\\t92\\t96', 'sachin\\t99\\t98\\t78', 'abhishek\\t98\\t78\\t87', 'asish\\t98\\t78\\t77', 'sahil\\t92\\t99\\t77']\n"
     ]
    }
   ],
   "source": [
    "print(data.split('\\n'))"
   ]
  },
  {
   "cell_type": "code",
   "execution_count": 12,
   "metadata": {},
   "outputs": [],
   "source": [
    "data=data.split('\\n')"
   ]
  },
  {
   "cell_type": "code",
   "execution_count": 13,
   "metadata": {},
   "outputs": [
    {
     "data": {
      "text/plain": [
       "['Name\\tP\\tC\\tM',\n",
       " 'Samyak\\t89\\t92\\t96',\n",
       " 'sachin\\t99\\t98\\t78',\n",
       " 'abhishek\\t98\\t78\\t87',\n",
       " 'asish\\t98\\t78\\t77',\n",
       " 'sahil\\t92\\t99\\t77']"
      ]
     },
     "execution_count": 13,
     "metadata": {},
     "output_type": "execute_result"
    }
   ],
   "source": [
    "data"
   ]
  },
  {
   "cell_type": "code",
   "execution_count": 14,
   "metadata": {},
   "outputs": [],
   "source": [
    "data1=data[1]"
   ]
  },
  {
   "cell_type": "code",
   "execution_count": 15,
   "metadata": {},
   "outputs": [
    {
     "data": {
      "text/plain": [
       "'Samyak\\t89\\t92\\t96'"
      ]
     },
     "execution_count": 15,
     "metadata": {},
     "output_type": "execute_result"
    }
   ],
   "source": [
    "data1"
   ]
  },
  {
   "cell_type": "code",
   "execution_count": 17,
   "metadata": {},
   "outputs": [],
   "source": [
    "data1=data1.split('\\t')"
   ]
  },
  {
   "cell_type": "code",
   "execution_count": 18,
   "metadata": {},
   "outputs": [
    {
     "data": {
      "text/plain": [
       "['Samyak', '89', '92', '96']"
      ]
     },
     "execution_count": 18,
     "metadata": {},
     "output_type": "execute_result"
    }
   ],
   "source": [
    "data1"
   ]
  },
  {
   "cell_type": "code",
   "execution_count": 19,
   "metadata": {},
   "outputs": [
    {
     "name": "stdout",
     "output_type": "stream",
     "text": [
      "Samyak\n",
      "89\n",
      "92\n",
      "96\n"
     ]
    }
   ],
   "source": [
    "for i in data1:\n",
    "    print(i)"
   ]
  },
  {
   "cell_type": "code",
   "execution_count": 23,
   "metadata": {},
   "outputs": [
    {
     "name": "stdout",
     "output_type": "stream",
     "text": [
      "Samyak got 92.33%\n"
     ]
    }
   ],
   "source": [
    "sum=0\n",
    "for i in range(1,len(data1)):\n",
    "    sum+=int(data1[i])\n",
    "print(f\"{data1[0]} got {round(sum/3,2)}%\")"
   ]
  },
  {
   "cell_type": "code",
   "execution_count": 24,
   "metadata": {},
   "outputs": [
    {
     "data": {
      "text/plain": [
       "['Samyak', '89', '92', '96']"
      ]
     },
     "execution_count": 24,
     "metadata": {},
     "output_type": "execute_result"
    }
   ],
   "source": [
    "data1"
   ]
  },
  {
   "cell_type": "code",
   "execution_count": 25,
   "metadata": {},
   "outputs": [
    {
     "data": {
      "text/plain": [
       "['Name\\tP\\tC\\tM',\n",
       " 'Samyak\\t89\\t92\\t96',\n",
       " 'sachin\\t99\\t98\\t78',\n",
       " 'abhishek\\t98\\t78\\t87',\n",
       " 'asish\\t98\\t78\\t77',\n",
       " 'sahil\\t92\\t99\\t77']"
      ]
     },
     "execution_count": 25,
     "metadata": {},
     "output_type": "execute_result"
    }
   ],
   "source": [
    "data"
   ]
  },
  {
   "cell_type": "code",
   "execution_count": 26,
   "metadata": {},
   "outputs": [
    {
     "name": "stdout",
     "output_type": "stream",
     "text": [
      "Samyak got 92.33%\n",
      "sachin got 91.67%\n",
      "abhishek got 87.67%\n",
      "asish got 84.33%\n",
      "sahil got 89.33%\n"
     ]
    }
   ],
   "source": [
    "for i in range(1,len(data)):\n",
    "    data1=data[i].split('\\t')\n",
    "    sum1=0\n",
    "    for i in range(1,len(data1)):\n",
    "        sum1+=int(data1[i])\n",
    "    print(f\"{data1[0]} got {round(sum1/3,2)}%\")"
   ]
  },
  {
   "cell_type": "code",
   "execution_count": 29,
   "metadata": {},
   "outputs": [
    {
     "name": "stdout",
     "output_type": "stream",
     "text": [
      "Name\tP\tC\tM\n",
      "Samyak\t89\t92\t96\n",
      "sachin\t99\t98\t78\n",
      "abhishek\t98\t78\t87\n",
      "asish\t98\t78\t77\n",
      "sahil\t92\t99\t77\n"
     ]
    }
   ],
   "source": [
    "!type percentage.txt"
   ]
  },
  {
   "cell_type": "code",
   "execution_count": 31,
   "metadata": {},
   "outputs": [],
   "source": [
    "f=open('percentage.csv','w')\n",
    "s='Name'+','+'P'+','+'C'+','+'M'\n",
    "f.write(s)\n",
    "f.close()"
   ]
  },
  {
   "cell_type": "code",
   "execution_count": 32,
   "metadata": {},
   "outputs": [
    {
     "name": "stdout",
     "output_type": "stream",
     "text": [
      "Name,P,C,M\n"
     ]
    }
   ],
   "source": [
    "! type percentage.csv"
   ]
  },
  {
   "cell_type": "code",
   "execution_count": 35,
   "metadata": {},
   "outputs": [
    {
     "name": "stdout",
     "output_type": "stream",
     "text": [
      "Enter NameA\n",
      "Physics Marks99\n",
      "Chemistry Marks98\n",
      "Maths Marks97\n",
      "Enter NameB\n",
      "Physics Marks78\n",
      "Chemistry Marks87\n",
      "Maths Marks7\n",
      "Enter NameC\n",
      "Physics Marks92\n",
      "Chemistry Marks93\n",
      "Maths Marks78\n"
     ]
    }
   ],
   "source": [
    "f=open('percentage.csv','a')\n",
    "for i in range(3):\n",
    "    s=f\"\\n{input('Enter Name')},{input('Physics Marks')},{input('Chemistry Marks')},{input('Maths Marks')}\"\n",
    "    f.write(s)\n",
    "f.close()"
   ]
  },
  {
   "cell_type": "code",
   "execution_count": 39,
   "metadata": {},
   "outputs": [],
   "source": [
    "f=open('percentage.csv')"
   ]
  },
  {
   "cell_type": "code",
   "execution_count": 40,
   "metadata": {},
   "outputs": [],
   "source": [
    "data=f.read()"
   ]
  },
  {
   "cell_type": "code",
   "execution_count": 41,
   "metadata": {},
   "outputs": [
    {
     "name": "stdout",
     "output_type": "stream",
     "text": [
      "Name,P,C,M\n",
      "A,99,98,97\n",
      "B,78,87,7\n",
      "C,92,93,78\n"
     ]
    }
   ],
   "source": [
    "print(data)"
   ]
  },
  {
   "cell_type": "code",
   "execution_count": 42,
   "metadata": {},
   "outputs": [],
   "source": [
    "import pandas as pd"
   ]
  },
  {
   "cell_type": "code",
   "execution_count": 43,
   "metadata": {},
   "outputs": [],
   "source": [
    "df=pd.read_csv('percentage.csv')"
   ]
  },
  {
   "cell_type": "code",
   "execution_count": 44,
   "metadata": {},
   "outputs": [
    {
     "data": {
      "text/html": [
       "<div>\n",
       "<style scoped>\n",
       "    .dataframe tbody tr th:only-of-type {\n",
       "        vertical-align: middle;\n",
       "    }\n",
       "\n",
       "    .dataframe tbody tr th {\n",
       "        vertical-align: top;\n",
       "    }\n",
       "\n",
       "    .dataframe thead th {\n",
       "        text-align: right;\n",
       "    }\n",
       "</style>\n",
       "<table border=\"1\" class=\"dataframe\">\n",
       "  <thead>\n",
       "    <tr style=\"text-align: right;\">\n",
       "      <th></th>\n",
       "      <th>Name</th>\n",
       "      <th>P</th>\n",
       "      <th>C</th>\n",
       "      <th>M</th>\n",
       "    </tr>\n",
       "  </thead>\n",
       "  <tbody>\n",
       "    <tr>\n",
       "      <th>0</th>\n",
       "      <td>A</td>\n",
       "      <td>99</td>\n",
       "      <td>98</td>\n",
       "      <td>97</td>\n",
       "    </tr>\n",
       "    <tr>\n",
       "      <th>1</th>\n",
       "      <td>B</td>\n",
       "      <td>78</td>\n",
       "      <td>87</td>\n",
       "      <td>7</td>\n",
       "    </tr>\n",
       "    <tr>\n",
       "      <th>2</th>\n",
       "      <td>C</td>\n",
       "      <td>92</td>\n",
       "      <td>93</td>\n",
       "      <td>78</td>\n",
       "    </tr>\n",
       "  </tbody>\n",
       "</table>\n",
       "</div>"
      ],
      "text/plain": [
       "  Name   P   C   M\n",
       "0    A  99  98  97\n",
       "1    B  78  87   7\n",
       "2    C  92  93  78"
      ]
     },
     "execution_count": 44,
     "metadata": {},
     "output_type": "execute_result"
    }
   ],
   "source": [
    "df"
   ]
  },
  {
   "cell_type": "code",
   "execution_count": 45,
   "metadata": {},
   "outputs": [
    {
     "data": {
      "text/plain": [
       "0    A\n",
       "1    B\n",
       "2    C\n",
       "Name: Name, dtype: object"
      ]
     },
     "execution_count": 45,
     "metadata": {},
     "output_type": "execute_result"
    }
   ],
   "source": [
    "df['Name']"
   ]
  },
  {
   "cell_type": "code",
   "execution_count": 1,
   "metadata": {},
   "outputs": [],
   "source": [
    "f=open('attandance.txt','w')\n",
    "s='Name\\tS\\tB\\tC\\tD\\tE\\tF\\tG\\tH\\tI\\tJ'\n",
    "f.write(s)\n",
    "f.close()"
   ]
  },
  {
   "cell_type": "code",
   "execution_count": 4,
   "metadata": {},
   "outputs": [
    {
     "name": "stdout",
     "output_type": "stream",
     "text": [
      "Enter Present or Abscent (A/P)\n",
      "S-->P\n",
      "B-->P\n",
      "C-->P\n",
      "D-->P\n",
      "E-->P\n",
      "F-->A\n",
      "G-->P\n",
      "H-->P\n",
      "I-->A\n",
      "J-->A\n"
     ]
    }
   ],
   "source": [
    "li=['S','B','C','D','E','F','G','H','I','J']\n",
    "import time\n",
    "x=time.strftime('%d/%m/%Y')\n",
    "f=open('attandance.txt','a')\n",
    "s='\\n'+x\n",
    "f.write(s)\n",
    "print('Enter Present or Abscent (A/P)')\n",
    "for i in range(10):\n",
    "    s=input(f'{li[i]}-->')\n",
    "    s='\\t'+s\n",
    "    f.write(s)\n",
    "f.close()"
   ]
  },
  {
   "cell_type": "code",
   "execution_count": 5,
   "metadata": {},
   "outputs": [
    {
     "name": "stdout",
     "output_type": "stream",
     "text": [
      "Name\tS\tB\tC\tD\tE\tF\tG\tH\tI\tJ\n",
      "25/05/2020\tA\tP\tP\tP\tA\tP\tA\tP\tP\tP\n",
      "25/05/2020\tP\tP\tA\tA\tP\tP\tP\tP\tA\tP\n",
      "25/05/2020\tP\tA\tP\tP\tP\tP\tA\tA\tP\tP\n",
      "25/05/2020\tP\tP\tP\tP\tP\tA\tP\tP\tA\tA\n"
     ]
    }
   ],
   "source": [
    "! type attandance.txt"
   ]
  },
  {
   "cell_type": "code",
   "execution_count": 6,
   "metadata": {},
   "outputs": [],
   "source": [
    "f=open('attandance.txt')"
   ]
  },
  {
   "cell_type": "code",
   "execution_count": 7,
   "metadata": {},
   "outputs": [],
   "source": [
    "data=f.read()"
   ]
  },
  {
   "cell_type": "code",
   "execution_count": 8,
   "metadata": {},
   "outputs": [
    {
     "name": "stdout",
     "output_type": "stream",
     "text": [
      "Name\tS\tB\tC\tD\tE\tF\tG\tH\tI\tJ\n",
      "25/05/2020\tA\tP\tP\tP\tA\tP\tA\tP\tP\tP\n",
      "25/05/2020\tP\tP\tA\tA\tP\tP\tP\tP\tA\tP\n",
      "25/05/2020\tP\tA\tP\tP\tP\tP\tA\tA\tP\tP\n",
      "25/05/2020\tP\tP\tP\tP\tP\tA\tP\tP\tA\tA\n"
     ]
    }
   ],
   "source": [
    "print(data)"
   ]
  },
  {
   "cell_type": "code",
   "execution_count": 9,
   "metadata": {},
   "outputs": [],
   "source": [
    "data=data.split('\\n')"
   ]
  },
  {
   "cell_type": "code",
   "execution_count": 10,
   "metadata": {},
   "outputs": [
    {
     "name": "stdout",
     "output_type": "stream",
     "text": [
      "['Name\\tS\\tB\\tC\\tD\\tE\\tF\\tG\\tH\\tI\\tJ', '25/05/2020\\tA\\tP\\tP\\tP\\tA\\tP\\tA\\tP\\tP\\tP', '25/05/2020\\tP\\tP\\tA\\tA\\tP\\tP\\tP\\tP\\tA\\tP', '25/05/2020\\tP\\tA\\tP\\tP\\tP\\tP\\tA\\tA\\tP\\tP', '25/05/2020\\tP\\tP\\tP\\tP\\tP\\tA\\tP\\tP\\tA\\tA']\n"
     ]
    }
   ],
   "source": [
    "print(data)"
   ]
  },
  {
   "cell_type": "code",
   "execution_count": 11,
   "metadata": {},
   "outputs": [
    {
     "data": {
      "text/plain": [
       "['Name\\tS\\tB\\tC\\tD\\tE\\tF\\tG\\tH\\tI\\tJ',\n",
       " '25/05/2020\\tA\\tP\\tP\\tP\\tA\\tP\\tA\\tP\\tP\\tP',\n",
       " '25/05/2020\\tP\\tP\\tA\\tA\\tP\\tP\\tP\\tP\\tA\\tP',\n",
       " '25/05/2020\\tP\\tA\\tP\\tP\\tP\\tP\\tA\\tA\\tP\\tP',\n",
       " '25/05/2020\\tP\\tP\\tP\\tP\\tP\\tA\\tP\\tP\\tA\\tA']"
      ]
     },
     "execution_count": 11,
     "metadata": {},
     "output_type": "execute_result"
    }
   ],
   "source": [
    "data"
   ]
  },
  {
   "cell_type": "code",
   "execution_count": 36,
   "metadata": {},
   "outputs": [],
   "source": [
    "l=[]\n",
    "for i in range(1,len(data)):\n",
    "    l.append(data[i].split())"
   ]
  },
  {
   "cell_type": "code",
   "execution_count": 37,
   "metadata": {},
   "outputs": [
    {
     "data": {
      "text/plain": [
       "[['25/05/2020', 'A', 'P', 'P', 'P', 'A', 'P', 'A', 'P', 'P', 'P'],\n",
       " ['25/05/2020', 'P', 'P', 'A', 'A', 'P', 'P', 'P', 'P', 'A', 'P'],\n",
       " ['25/05/2020', 'P', 'A', 'P', 'P', 'P', 'P', 'A', 'A', 'P', 'P'],\n",
       " ['25/05/2020', 'P', 'P', 'P', 'P', 'P', 'A', 'P', 'P', 'A', 'A']]"
      ]
     },
     "execution_count": 37,
     "metadata": {},
     "output_type": "execute_result"
    }
   ],
   "source": [
    "l"
   ]
  },
  {
   "cell_type": "code",
   "execution_count": 19,
   "metadata": {},
   "outputs": [
    {
     "data": {
      "text/plain": [
       "'Name\\tS\\tB\\tC\\tD\\tE\\tF\\tG\\tH\\tI\\tJ'"
      ]
     },
     "execution_count": 19,
     "metadata": {},
     "output_type": "execute_result"
    }
   ],
   "source": [
    "data[0]"
   ]
  },
  {
   "cell_type": "code",
   "execution_count": 23,
   "metadata": {},
   "outputs": [
    {
     "name": "stdout",
     "output_type": "stream",
     "text": [
      "['25/05/2020', 'A', 'P', 'P', 'P', 'A', 'P', 'A', 'P', 'P', 'P']\n",
      "['25/05/2020', 'P', 'P', 'A', 'A', 'P', 'P', 'P', 'P', 'A', 'P']\n",
      "['25/05/2020', 'P', 'A', 'P', 'P', 'P', 'P', 'A', 'A', 'P', 'P']\n",
      "['25/05/2020', 'P', 'P', 'P', 'P', 'P', 'A', 'P', 'P', 'A', 'A']\n"
     ]
    }
   ],
   "source": [
    "for i in l:\n",
    "    print(i)"
   ]
  },
  {
   "cell_type": "code",
   "execution_count": 41,
   "metadata": {},
   "outputs": [
    {
     "name": "stdout",
     "output_type": "stream",
     "text": [
      "A\tP\tP\tP\tA\tP\tA\tP\tP\tP\t\n",
      "P\tP\tA\tA\tP\tP\tP\tP\tA\tP\t\n",
      "P\tA\tP\tP\tP\tP\tA\tA\tP\tP\t\n",
      "P\tP\tP\tP\tP\tA\tP\tP\tA\tA\t\n"
     ]
    }
   ],
   "source": [
    "for i in range(len(l)):\n",
    "    for j in range(1,11):\n",
    "        print(l[i][j],end='\\t')\n",
    "    print()"
   ]
  },
  {
   "cell_type": "code",
   "execution_count": 43,
   "metadata": {
    "scrolled": true
   },
   "outputs": [
    {
     "name": "stdout",
     "output_type": "stream",
     "text": [
      "A\tP\tP\tP\t\n",
      "P\tP\tA\tP\t\n",
      "P\tA\tP\tP\t\n",
      "P\tA\tP\tP\t\n",
      "A\tP\tP\tP\t\n",
      "P\tP\tP\tA\t\n",
      "A\tP\tA\tP\t\n",
      "P\tP\tA\tP\t\n",
      "P\tA\tP\tA\t\n",
      "P\tP\tP\tA\t\n"
     ]
    }
   ],
   "source": [
    "l2=[]\n",
    "for j in range(1,11):\n",
    "    for i in range(len(l)):\n",
    "        print(l[i][j],end='\\t')\n",
    "    print()"
   ]
  },
  {
   "cell_type": "code",
   "execution_count": 54,
   "metadata": {},
   "outputs": [
    {
     "name": "stdout",
     "output_type": "stream",
     "text": [
      "S---->3 Present and 1 Abscent\n",
      "B---->3 Present and 1 Abscent\n",
      "C---->3 Present and 1 Abscent\n",
      "D---->3 Present and 1 Abscent\n",
      "E---->3 Present and 1 Abscent\n",
      "F---->3 Present and 1 Abscent\n",
      "G---->2 Present and 2 Abscent\n",
      "H---->3 Present and 1 Abscent\n",
      "I---->2 Present and 2 Abscent\n",
      "J---->3 Present and 1 Abscent\n"
     ]
    }
   ],
   "source": [
    "for j in range(1,11):\n",
    "    l2=[]\n",
    "    for i in range(len(l)):\n",
    "        l2.append(l[i][j])\n",
    "    persent=l2.count('P')+l2.count('p')\n",
    "    abscent=l2.count('A')+l2.count('a')\n",
    "    print(f\"{li[j-1]}---->{persent} Present and {abscent} Abscent\")\n",
    "    "
   ]
  },
  {
   "cell_type": "code",
   "execution_count": null,
   "metadata": {},
   "outputs": [],
   "source": []
  }
 ],
 "metadata": {
  "kernelspec": {
   "display_name": "Python 3",
   "language": "python",
   "name": "python3"
  },
  "language_info": {
   "codemirror_mode": {
    "name": "ipython",
    "version": 3
   },
   "file_extension": ".py",
   "mimetype": "text/x-python",
   "name": "python",
   "nbconvert_exporter": "python",
   "pygments_lexer": "ipython3",
   "version": "3.7.3"
  }
 },
 "nbformat": 4,
 "nbformat_minor": 2
}
