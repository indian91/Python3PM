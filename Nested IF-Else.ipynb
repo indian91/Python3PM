{
 "cells": [
  {
   "cell_type": "code",
   "execution_count": 4,
   "metadata": {},
   "outputs": [
    {
     "name": "stdout",
     "output_type": "stream",
     "text": [
      "Enter number5\n",
      "Enter number9\n",
      "Enter number3\n",
      "9 is maximum\n"
     ]
    }
   ],
   "source": [
    "x=int(input('Enter number'))\n",
    "y=int(input('Enter number'))\n",
    "z=int(input('Enter number'))\n",
    "\n",
    "if x>y and x>z:\n",
    "    print(f'{x} is maximum')\n",
    "elif y>z:\n",
    "    print(f'{y} is maximum')\n",
    "else:\n",
    "    print(f'{z} is maximum')"
   ]
  },
  {
   "cell_type": "code",
   "execution_count": 5,
   "metadata": {},
   "outputs": [
    {
     "name": "stdout",
     "output_type": "stream",
     "text": [
      "Enter number9\n",
      "Enter number7\n",
      "Enter number4\n",
      "9 is maximum\n"
     ]
    }
   ],
   "source": [
    "x=int(input('Enter number'))\n",
    "y=int(input('Enter number'))\n",
    "z=int(input('Enter number'))\n",
    "\n",
    "if x>y and x>z:\n",
    "    print(f'{x} is maximum')\n",
    "elif y>z:\n",
    "    print(f'{y} is maximum')\n",
    "else:\n",
    "    print(f'{z} is maximum')"
   ]
  },
  {
   "cell_type": "code",
   "execution_count": 6,
   "metadata": {},
   "outputs": [
    {
     "name": "stdout",
     "output_type": "stream",
     "text": [
      "Enter number3\n",
      "Enter number5\n",
      "Enter number8\n",
      "8 is maximum\n"
     ]
    }
   ],
   "source": [
    "x=int(input('Enter number'))\n",
    "y=int(input('Enter number'))\n",
    "z=int(input('Enter number'))\n",
    "\n",
    "if x>y and x>z:\n",
    "    print(f'{x} is maximum')\n",
    "elif y>z:\n",
    "    print(f'{y} is maximum')\n",
    "else:\n",
    "    print(f'{z} is maximum')"
   ]
  },
  {
   "cell_type": "code",
   "execution_count": 7,
   "metadata": {},
   "outputs": [
    {
     "name": "stdout",
     "output_type": "stream",
     "text": [
      "Enter number5\n",
      "Enter number4\n",
      "Enter number8\n",
      "8 is maximum\n"
     ]
    }
   ],
   "source": [
    "x=int(input('Enter number'))\n",
    "y=int(input('Enter number'))\n",
    "z=int(input('Enter number'))\n",
    "\n",
    "if x > y:\n",
    "    if x>z:\n",
    "        print(f'{x} is maximum')\n",
    "    else:\n",
    "        print(f'{z} is maximum')\n",
    "else:\n",
    "    if y>z:\n",
    "        print(f'{y} is maximum')\n",
    "    else:\n",
    "        print(f'{z} is maximum')"
   ]
  },
  {
   "cell_type": "code",
   "execution_count": 9,
   "metadata": {},
   "outputs": [
    {
     "name": "stdout",
     "output_type": "stream",
     "text": [
      "Enter number3\n",
      "Enter number4\n",
      "Enter number2\n",
      "4 is maximum\n"
     ]
    }
   ],
   "source": [
    "x=int(input('Enter number'))\n",
    "y=int(input('Enter number'))\n",
    "z=int(input('Enter number'))\n",
    "\n",
    "if x > y:\n",
    "    if x>z:\n",
    "        print(f'{x} is maximum')\n",
    "    else:\n",
    "        print(f'{z} is maximum')\n",
    "else:\n",
    "    if y>z:\n",
    "        print(f'{y} is maximum')\n",
    "    else:\n",
    "        print(f'{z} is maximum')"
   ]
  },
  {
   "cell_type": "code",
   "execution_count": 11,
   "metadata": {},
   "outputs": [
    {
     "name": "stdout",
     "output_type": "stream",
     "text": [
      "Enter number9\n",
      "Enter number6\n",
      "Enter number3\n",
      "9 is maximum\n"
     ]
    }
   ],
   "source": [
    "x=int(input('Enter number'))\n",
    "y=int(input('Enter number'))\n",
    "z=int(input('Enter number'))\n",
    "\n",
    "if x > y:\n",
    "    if x>z:\n",
    "        print(f'{x} is maximum')\n",
    "    else:\n",
    "        print(f'{z} is maximum')\n",
    "else:\n",
    "    if y>z:\n",
    "        print(f'{y} is maximum')\n",
    "    else:\n",
    "        print(f'{z} is maximum')"
   ]
  },
  {
   "cell_type": "code",
   "execution_count": 2,
   "metadata": {},
   "outputs": [],
   "source": [
    "d={1001:{'Name':'Samyak','Bal':10000,'pwd':'redhat@123'},\n",
    "   1002:{'Name':'Sachin','Bal':20000,'pwd':'sachin@123'}}"
   ]
  },
  {
   "cell_type": "code",
   "execution_count": 16,
   "metadata": {},
   "outputs": [
    {
     "name": "stdout",
     "output_type": "stream",
     "text": [
      "Enter a number1001\n",
      "Enter Passwordredhat@123\n",
      "{'Name': 'Samyak', 'Bal': 10000, 'pwd': 'redhat@123'}\n"
     ]
    }
   ],
   "source": [
    "acc=int(input('Enter account number'))\n",
    "if acc in d:\n",
    "    pwd=input('Enter Password')\n",
    "    if pwd==d[acc]['pwd']:\n",
    "        print(d[acc])\n",
    "    else:\n",
    "        print('Invalid Password')\n",
    "else:\n",
    "    print('Account not exist')"
   ]
  },
  {
   "cell_type": "code",
   "execution_count": 17,
   "metadata": {},
   "outputs": [
    {
     "name": "stdout",
     "output_type": "stream",
     "text": [
      "Enter account number1002\n",
      "Enter Passwordabcde\n",
      "Invalid Password\n"
     ]
    }
   ],
   "source": [
    "acc=int(input('Enter account number'))\n",
    "if acc in d:\n",
    "    pwd=input('Enter Password')\n",
    "    if pwd==d[acc]['pwd']:\n",
    "        print(d[acc])\n",
    "    else:\n",
    "        print('Invalid Password')\n",
    "else:\n",
    "    print('Account not exist')"
   ]
  },
  {
   "cell_type": "code",
   "execution_count": 18,
   "metadata": {
    "scrolled": true
   },
   "outputs": [
    {
     "name": "stdout",
     "output_type": "stream",
     "text": [
      "Enter account number1003\n",
      "Account not exist\n"
     ]
    }
   ],
   "source": [
    "acc=int(input('Enter account number'))\n",
    "if acc in d:\n",
    "    pwd=input('Enter Password')\n",
    "    if pwd==d[acc]['pwd']:\n",
    "        print(d[acc])\n",
    "    else:\n",
    "        print('Invalid Password')\n",
    "else:\n",
    "    print('Account not exist')"
   ]
  },
  {
   "cell_type": "code",
   "execution_count": 3,
   "metadata": {},
   "outputs": [
    {
     "name": "stdout",
     "output_type": "stream",
     "text": [
      "Enter account number1002\n",
      "Enter Passwordsachin@123\n",
      "Enter Balance amount which you want to withdrawl30000\n",
      "Insufficient Balance\n"
     ]
    }
   ],
   "source": [
    "acc=int(input('Enter account number'))\n",
    "if acc in d:\n",
    "    pwd=input('Enter Password')\n",
    "    if pwd==d[acc]['pwd']:\n",
    "        bal=int(input('Enter Balance amount which you want to withdrawl'))\n",
    "        if bal<d[acc]['Bal']:\n",
    "            d[acc]['Bal']-=bal\n",
    "            print('Your Updated Balance is :',d[acc]['Bal'])\n",
    "        else:\n",
    "            print('Insufficient Balance')\n",
    "    else:\n",
    "        print('Invalid Password')\n",
    "else:\n",
    "    print('Account not exist')"
   ]
  },
  {
   "cell_type": "code",
   "execution_count": 4,
   "metadata": {},
   "outputs": [
    {
     "name": "stdout",
     "output_type": "stream",
     "text": [
      "Enter account number1002\n",
      "Enter Passwordsachin@123\n",
      "Enter Balance amount which you want to withdrawl3000\n",
      "Your Updated Balance is : 17000\n"
     ]
    }
   ],
   "source": [
    "acc=int(input('Enter account number'))\n",
    "if acc in d:\n",
    "    pwd=input('Enter Password')\n",
    "    if pwd==d[acc]['pwd']:\n",
    "        bal=int(input('Enter Balance amount which you want to withdrawl'))\n",
    "        if bal<d[acc]['Bal']:\n",
    "            d[acc]['Bal']-=bal\n",
    "            print('Your Updated Balance is :',d[acc]['Bal'])\n",
    "        else:\n",
    "            print('Insufficient Balance')\n",
    "    else:\n",
    "        print('Invalid Password')\n",
    "else:\n",
    "    print('Account not exist')"
   ]
  },
  {
   "cell_type": "code",
   "execution_count": 23,
   "metadata": {},
   "outputs": [
    {
     "name": "stdout",
     "output_type": "stream",
     "text": [
      "Writing next_day.py\n"
     ]
    }
   ],
   "source": [
    "%%writefile next_day.py\n",
    "x=input('Enter date in dd/mm/yyyy format ')\n",
    "\n",
    "date=int(x.split('/')[0])\n",
    "month=int(x.split('/')[1])\n",
    "year=int(x.split('/')[2])\n",
    "if date > 31 or date <1:\n",
    "    print('Invalid Date')\n",
    "elif date>30 and month in [4,6,9,11]:\n",
    "    print('Ivalid Date')\n",
    "elif date > 28 and month==2 and year%4!=0:\n",
    "    print('Invalid Date')\n",
    "elif date > 29 and month==2:\n",
    "    print('Invalid Date')\n",
    "elif date==29 and month==2:\n",
    "    print(f'Next Date is : 1/{month+1}/{year}')\n",
    "        \n",
    "elif date==28 and month==2 and year%4!=0:\n",
    "    print(f'Next date is : 1/{month+1}/{year}')\n",
    "    \n",
    "elif date==30 and month in [4,6,9,11]:\n",
    "    print(f'Next Date is : 1/{month+1}/{year}')\n",
    "\n",
    "elif date==31 and month in [1,3,5,7,8,10]:\n",
    "    print(f'Next Date is : 1/{month+1}/{year}')\n",
    "\n",
    "elif date==31 and month==12:\n",
    "    print(f'Next Date is : 1/1/{year+1}')\n",
    "\n",
    "else:\n",
    "    print(f'Next Date is :{date+1}/{month}/{year}')"
   ]
  },
  {
   "cell_type": "code",
   "execution_count": null,
   "metadata": {},
   "outputs": [],
   "source": []
  }
 ],
 "metadata": {
  "kernelspec": {
   "display_name": "Python 3",
   "language": "python",
   "name": "python3"
  }
 },
 "nbformat": 4,
 "nbformat_minor": 2
}
