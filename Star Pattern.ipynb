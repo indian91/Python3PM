{
 "cells": [
  {
   "cell_type": "code",
   "execution_count": 2,
   "metadata": {},
   "outputs": [
    {
     "name": "stdout",
     "output_type": "stream",
     "text": [
      "**********\n",
      "**********\n",
      "**********\n",
      "**********\n",
      "**********\n",
      "**********\n",
      "**********\n",
      "**********\n",
      "**********\n",
      "**********\n"
     ]
    }
   ],
   "source": [
    "row=0\n",
    "while row<10:\n",
    "    col=0\n",
    "    while col<10:\n",
    "        print('*',end='')\n",
    "        col+=1\n",
    "    row+=1\n",
    "    print()"
   ]
  },
  {
   "cell_type": "code",
   "execution_count": 5,
   "metadata": {},
   "outputs": [
    {
     "name": "stdout",
     "output_type": "stream",
     "text": [
      "**********\n",
      "**********\n",
      "**********\n",
      "**********\n",
      "**********\n",
      "**********\n",
      "**********\n",
      "**********\n",
      "**********\n",
      "**********\n"
     ]
    }
   ],
   "source": [
    "for j in range(10):\n",
    "    for i in range(10):\n",
    "        print('*',end='')\n",
    "    print()"
   ]
  },
  {
   "cell_type": "code",
   "execution_count": 6,
   "metadata": {},
   "outputs": [
    {
     "name": "stdout",
     "output_type": "stream",
     "text": [
      "****************************************************************************************************"
     ]
    }
   ],
   "source": [
    "row=0\n",
    "while row<10:\n",
    "    col=0\n",
    "    while col<10:\n",
    "        print('*',end='')\n",
    "        col+=1\n",
    "    row+=1"
   ]
  },
  {
   "cell_type": "code",
   "execution_count": 10,
   "metadata": {},
   "outputs": [
    {
     "name": "stdout",
     "output_type": "stream",
     "text": [
      "*         \n",
      "**        \n",
      "***       \n",
      "****      \n",
      "*****     \n",
      "******    \n",
      "*******   \n",
      "********  \n",
      "********* \n",
      "**********\n"
     ]
    }
   ],
   "source": [
    "row=1\n",
    "while row<=10:\n",
    "    col=1\n",
    "    while col<=10:\n",
    "        if col<=row:\n",
    "            print('*',end='')\n",
    "        else:\n",
    "            print(' ',end='')\n",
    "        col+=1\n",
    "    row+=1\n",
    "    print()"
   ]
  },
  {
   "cell_type": "code",
   "execution_count": 21,
   "metadata": {},
   "outputs": [
    {
     "name": "stdout",
     "output_type": "stream",
     "text": [
      "**********\n",
      "********* \n",
      "********  \n",
      "*******   \n",
      "******    \n",
      "*****     \n",
      "****      \n",
      "***       \n",
      "**        \n",
      "*         \n"
     ]
    }
   ],
   "source": [
    "row=1\n",
    "while row<=10:\n",
    "    col=1\n",
    "    while col<=10:\n",
    "        if col<=10-row+1:\n",
    "            print('*',end='')\n",
    "        else:\n",
    "            print(' ',end='')\n",
    "        col+=1\n",
    "    row+=1\n",
    "    print()"
   ]
  },
  {
   "cell_type": "code",
   "execution_count": 24,
   "metadata": {},
   "outputs": [
    {
     "name": "stdout",
     "output_type": "stream",
     "text": [
      "**********\n",
      "*********\n",
      "********\n",
      "*******\n",
      "******\n",
      "*****\n",
      "****\n",
      "***\n",
      "**\n",
      "*\n"
     ]
    }
   ],
   "source": [
    "row=1\n",
    "while row<=10:\n",
    "    col=10\n",
    "    while col>=row:\n",
    "        print('*',end='')\n",
    "        col-=1\n",
    "    row+=1\n",
    "    print()"
   ]
  },
  {
   "cell_type": "code",
   "execution_count": 26,
   "metadata": {},
   "outputs": [
    {
     "name": "stdout",
     "output_type": "stream",
     "text": [
      "         *\n",
      "        **\n",
      "       ***\n",
      "      ****\n",
      "     *****\n",
      "    ******\n",
      "   *******\n",
      "  ********\n",
      " *********\n",
      "**********\n"
     ]
    }
   ],
   "source": [
    "row=1\n",
    "while row<=10:\n",
    "    col=1\n",
    "    while col<=10:\n",
    "        if col<=10-row:\n",
    "            print(' ',end='')\n",
    "        else:\n",
    "            print('*',end='')\n",
    "        col+=1\n",
    "    row+=1\n",
    "    print()"
   ]
  },
  {
   "cell_type": "code",
   "execution_count": 29,
   "metadata": {},
   "outputs": [
    {
     "name": "stdout",
     "output_type": "stream",
     "text": [
      "**********\n",
      " *********\n",
      "  ********\n",
      "   *******\n",
      "    ******\n",
      "     *****\n",
      "      ****\n",
      "       ***\n",
      "        **\n",
      "         *\n"
     ]
    }
   ],
   "source": [
    "row=1\n",
    "while row<=10:\n",
    "    col=1\n",
    "    while col<=10:\n",
    "        if col<=row-1:\n",
    "            print(' ',end='')\n",
    "        else:\n",
    "            print('*',end='')\n",
    "        col+=1\n",
    "    row+=1\n",
    "    print()"
   ]
  },
  {
   "cell_type": "code",
   "execution_count": 32,
   "metadata": {},
   "outputs": [
    {
     "name": "stdout",
     "output_type": "stream",
     "text": [
      "         *          \n",
      "        ***         \n",
      "       *****        \n",
      "      *******       \n",
      "     *********      \n",
      "    ***********     \n",
      "   *************    \n",
      "  ***************   \n",
      " *****************  \n",
      "******************* \n"
     ]
    }
   ],
   "source": [
    "row=1\n",
    "while row<=10:\n",
    "    col=1\n",
    "    while col<=10:\n",
    "        if col<=10-row:\n",
    "            print(' ',end='')\n",
    "        else:\n",
    "            print('*',end='')\n",
    "        col+=1\n",
    "    col=1\n",
    "    while col<=10:\n",
    "        if col<=row-1:\n",
    "            print('*',end='')\n",
    "        else:\n",
    "            print(' ',end='')\n",
    "        col+=1\n",
    "    row+=1\n",
    "    print()"
   ]
  },
  {
   "cell_type": "code",
   "execution_count": 34,
   "metadata": {},
   "outputs": [
    {
     "name": "stdout",
     "output_type": "stream",
     "text": [
      "         *          \n",
      "        ***         \n",
      "       *****        \n",
      "      *******       \n",
      "     *********      \n",
      "    ***********     \n",
      "   *************    \n",
      "  ***************   \n",
      " *****************  \n",
      "******************* \n",
      "******************* \n",
      " *****************  \n",
      "  ***************   \n",
      "   *************    \n",
      "    ***********     \n",
      "     *********      \n",
      "      *******       \n",
      "       *****        \n",
      "        ***         \n",
      "         *          \n"
     ]
    }
   ],
   "source": [
    "row=1\n",
    "while row<=10:\n",
    "    col=1\n",
    "    while col<=10:\n",
    "        if col<=10-row:\n",
    "            print(' ',end='')\n",
    "        else:\n",
    "            print('*',end='')\n",
    "        col+=1\n",
    "    col=1\n",
    "    while col<=10:\n",
    "        if col<=row-1:\n",
    "            print('*',end='')\n",
    "        else:\n",
    "            print(' ',end='')\n",
    "        col+=1\n",
    "    row+=1\n",
    "    print()\n",
    "    \n",
    "row=1\n",
    "while row<=10:\n",
    "    col=1\n",
    "    while col<=10:\n",
    "        if col<=row-1:\n",
    "            print(' ',end='')\n",
    "        else:\n",
    "            print('*',end='')\n",
    "        col+=1    \n",
    "\n",
    "    col=1\n",
    "    while col<=10:\n",
    "        if col<=10-row:\n",
    "            print('*',end='')\n",
    "        else:\n",
    "            print(' ',end='')\n",
    "        col+=1\n",
    "    row+=1\n",
    "    print()"
   ]
  },
  {
   "cell_type": "code",
   "execution_count": 35,
   "metadata": {},
   "outputs": [
    {
     "name": "stdout",
     "output_type": "stream",
     "text": [
      "******************* \n",
      " *****************  \n",
      "  ***************   \n",
      "   *************    \n",
      "    ***********     \n",
      "     *********      \n",
      "      *******       \n",
      "       *****        \n",
      "        ***         \n",
      "         *          \n"
     ]
    }
   ],
   "source": [
    "row=1\n",
    "while row<=10:\n",
    "    col=1\n",
    "    while col<=10:\n",
    "        if col<=row-1:\n",
    "            print(' ',end='')\n",
    "        else:\n",
    "            print('*',end='')\n",
    "        col+=1    \n",
    "\n",
    "    col=1\n",
    "    while col<=10:\n",
    "        if col<=10-row:\n",
    "            print('*',end='')\n",
    "        else:\n",
    "            print(' ',end='')\n",
    "        col+=1\n",
    "    row+=1\n",
    "    print()"
   ]
  },
  {
   "cell_type": "code",
   "execution_count": 36,
   "metadata": {},
   "outputs": [],
   "source": [
    "s='hello world'"
   ]
  },
  {
   "cell_type": "code",
   "execution_count": null,
   "metadata": {},
   "outputs": [],
   "source": [
    "s."
   ]
  }
 ],
 "metadata": {
  "kernelspec": {
   "display_name": "Python 3",
   "language": "python",
   "name": "python3"
  },
  "language_info": {
   "codemirror_mode": {
    "name": "ipython",
    "version": 3
   },
   "file_extension": ".py",
   "mimetype": "text/x-python",
   "name": "python",
   "nbconvert_exporter": "python",
   "pygments_lexer": "ipython3",
   "version": "3.7.3"
  }
 },
 "nbformat": 4,
 "nbformat_minor": 2
}
